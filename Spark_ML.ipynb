{
 "cells": [
  {
   "cell_type": "code",
   "execution_count": 1,
   "metadata": {
    "ExecuteTime": {
     "end_time": "2019-05-28T04:51:26.104679Z",
     "start_time": "2019-05-28T04:51:25.562707Z"
    }
   },
   "outputs": [],
   "source": [
    "# import libraries\n",
    "from pyspark.sql import SparkSession, Window\n",
    "from pyspark.sql.functions import *\n",
    "from pyspark.sql.types import IntegerType, DateType, StringType\n",
    "\n",
    "from pyspark.ml.feature import StringIndexer, OneHotEncoder, VectorAssembler, StandardScaler, HashingTF\n",
    "from pyspark.ml import Pipeline\n",
    "from pyspark.ml.classification import RandomForestClassifier, LogisticRegression\n",
    "from pyspark.ml.evaluation import BinaryClassificationEvaluator, MulticlassClassificationEvaluator\n",
    "from pyspark.ml.tuning import CrossValidator, ParamGridBuilder, TrainValidationSplit\n",
    "\n",
    "\n",
    "from datetime import datetime\n",
    "import numpy as np\n",
    "\n",
    "import matplotlib.pyplot as plt\n",
    "import seaborn as sns\n",
    "%matplotlib inline\n",
    "\n",
    "import gc"
   ]
  },
  {
   "cell_type": "code",
   "execution_count": 2,
   "metadata": {
    "ExecuteTime": {
     "end_time": "2019-05-28T04:51:26.110348Z",
     "start_time": "2019-05-28T04:51:26.106329Z"
    },
    "scrolled": true
   },
   "outputs": [],
   "source": [
    "# create a Spark session\n",
    "spark = SparkSession \\\n",
    "    .builder \\\n",
    "    .appName(\"Sparkify\") \\\n",
    "    .getOrCreate()"
   ]
  },
  {
   "cell_type": "code",
   "execution_count": 3,
   "metadata": {
    "ExecuteTime": {
     "end_time": "2019-05-28T04:51:29.365011Z",
     "start_time": "2019-05-28T04:51:26.112315Z"
    }
   },
   "outputs": [],
   "source": [
    "# set data path and read in\n",
    "data_path = \"mini_sparkify_event_data.json\"\n",
    "mini_data = spark.read.json(data_path)"
   ]
  },
  {
   "cell_type": "code",
   "execution_count": 4,
   "metadata": {
    "ExecuteTime": {
     "end_time": "2019-05-28T04:51:29.732200Z",
     "start_time": "2019-05-28T04:51:29.367420Z"
    }
   },
   "outputs": [
    {
     "name": "stdout",
     "output_type": "stream",
     "text": [
      "+--------------+---------+---------+------+-------------+--------+---------+-----+---------------+------+--------+-------------+---------+---------+------+-------------+--------------------+------+\n",
      "|        artist|     auth|firstName|gender|itemInSession|lastName|   length|level|       location|method|    page| registration|sessionId|     song|status|           ts|           userAgent|userId|\n",
      "+--------------+---------+---------+------+-------------+--------+---------+-----+---------------+------+--------+-------------+---------+---------+------+-------------+--------------------+------+\n",
      "|Martha Tilston|Logged In|    Colin|     M|           50| Freeman|277.89016| paid|Bakersfield, CA|   PUT|NextSong|1538173362000|       29|Rockpools|   200|1538352117000|Mozilla/5.0 (Wind...|    30|\n",
      "+--------------+---------+---------+------+-------------+--------+---------+-----+---------------+------+--------+-------------+---------+---------+------+-------------+--------------------+------+\n",
      "only showing top 1 row\n",
      "\n"
     ]
    }
   ],
   "source": [
    "# display the table content\n",
    "mini_data.show(1)"
   ]
  },
  {
   "cell_type": "code",
   "execution_count": 5,
   "metadata": {
    "ExecuteTime": {
     "end_time": "2019-05-28T04:51:30.096300Z",
     "start_time": "2019-05-28T04:51:29.733904Z"
    }
   },
   "outputs": [
    {
     "data": {
      "text/plain": [
       "286500"
      ]
     },
     "execution_count": 5,
     "metadata": {},
     "output_type": "execute_result"
    }
   ],
   "source": [
    "# count rows in this dataset\n",
    "mini_data.count()"
   ]
  },
  {
   "cell_type": "code",
   "execution_count": 6,
   "metadata": {
    "ExecuteTime": {
     "end_time": "2019-05-28T04:51:30.108680Z",
     "start_time": "2019-05-28T04:51:30.098493Z"
    }
   },
   "outputs": [
    {
     "name": "stdout",
     "output_type": "stream",
     "text": [
      "root\n",
      " |-- artist: string (nullable = true)\n",
      " |-- auth: string (nullable = true)\n",
      " |-- firstName: string (nullable = true)\n",
      " |-- gender: string (nullable = true)\n",
      " |-- itemInSession: long (nullable = true)\n",
      " |-- lastName: string (nullable = true)\n",
      " |-- length: double (nullable = true)\n",
      " |-- level: string (nullable = true)\n",
      " |-- location: string (nullable = true)\n",
      " |-- method: string (nullable = true)\n",
      " |-- page: string (nullable = true)\n",
      " |-- registration: long (nullable = true)\n",
      " |-- sessionId: long (nullable = true)\n",
      " |-- song: string (nullable = true)\n",
      " |-- status: long (nullable = true)\n",
      " |-- ts: long (nullable = true)\n",
      " |-- userAgent: string (nullable = true)\n",
      " |-- userId: string (nullable = true)\n",
      "\n"
     ]
    }
   ],
   "source": [
    "# Print the schema in a tree format\n",
    "mini_data.printSchema()"
   ]
  },
  {
   "cell_type": "code",
   "execution_count": 7,
   "metadata": {
    "ExecuteTime": {
     "end_time": "2019-05-28T04:51:30.256394Z",
     "start_time": "2019-05-28T04:51:30.110346Z"
    }
   },
   "outputs": [],
   "source": [
    "# register the mini data as a SQL temporary view\n",
    "mini_data.createOrReplaceTempView(\"df_mini\")"
   ]
  },
  {
   "cell_type": "code",
   "execution_count": 8,
   "metadata": {
    "ExecuteTime": {
     "end_time": "2019-05-28T04:51:34.398813Z",
     "start_time": "2019-05-28T04:51:30.257974Z"
    }
   },
   "outputs": [
    {
     "name": "stdout",
     "output_type": "stream",
     "text": [
      "+----------------------+\n",
      "|count(DISTINCT userId)|\n",
      "+----------------------+\n",
      "|                   226|\n",
      "+----------------------+\n",
      "\n"
     ]
    }
   ],
   "source": [
    "# count distinct user_ids\n",
    "spark.sql(\"select count(distinct(userId)) from df_mini\").show()"
   ]
  },
  {
   "cell_type": "code",
   "execution_count": 9,
   "metadata": {
    "ExecuteTime": {
     "end_time": "2019-05-28T04:51:39.475887Z",
     "start_time": "2019-05-28T04:51:34.402868Z"
    }
   },
   "outputs": [
    {
     "data": {
      "text/plain": [
       "[('artist', 58392),\n",
       " ('auth', 0),\n",
       " ('firstName', 8346),\n",
       " ('gender', 8346),\n",
       " ('itemInSession', 0),\n",
       " ('lastName', 8346),\n",
       " ('length', 58392),\n",
       " ('level', 0),\n",
       " ('location', 8346),\n",
       " ('method', 0),\n",
       " ('page', 0),\n",
       " ('registration', 8346),\n",
       " ('sessionId', 0),\n",
       " ('song', 58392),\n",
       " ('status', 0),\n",
       " ('ts', 0),\n",
       " ('userAgent', 8346),\n",
       " ('userId', 0)]"
      ]
     },
     "execution_count": 9,
     "metadata": {},
     "output_type": "execute_result"
    }
   ],
   "source": [
    "# print out null sums in each column \n",
    "[(c, spark.sql(\"select * from df_mini where {} is Null\".format(c)).count()) for c in mini_data.columns]"
   ]
  },
  {
   "cell_type": "code",
   "execution_count": 10,
   "metadata": {
    "ExecuteTime": {
     "end_time": "2019-05-28T04:51:42.603799Z",
     "start_time": "2019-05-28T04:51:39.478541Z"
    }
   },
   "outputs": [
    {
     "data": {
      "text/plain": [
       "[('artist', 0),\n",
       " ('auth', 0),\n",
       " ('firstName', 0),\n",
       " ('gender', 0),\n",
       " ('itemInSession', 0),\n",
       " ('lastName', 0),\n",
       " ('length', 0),\n",
       " ('level', 0),\n",
       " ('location', 0),\n",
       " ('method', 0),\n",
       " ('page', 0),\n",
       " ('registration', 0),\n",
       " ('sessionId', 0),\n",
       " ('song', 0),\n",
       " ('status', 0),\n",
       " ('ts', 0),\n",
       " ('userAgent', 0),\n",
       " ('userId', 8346)]"
      ]
     },
     "execution_count": 10,
     "metadata": {},
     "output_type": "execute_result"
    }
   ],
   "source": [
    "# print out '' sums in each column \n",
    "[(c, spark.sql(\"select * from df_mini where {} = ''\".format(c)).count()) for c in mini_data.columns]"
   ]
  },
  {
   "cell_type": "code",
   "execution_count": 11,
   "metadata": {
    "ExecuteTime": {
     "end_time": "2019-05-28T04:51:43.245282Z",
     "start_time": "2019-05-28T04:51:42.605584Z"
    }
   },
   "outputs": [
    {
     "name": "stdout",
     "output_type": "stream",
     "text": [
      "+--------+\n",
      "|    page|\n",
      "+--------+\n",
      "|NextSong|\n",
      "+--------+\n",
      "\n"
     ]
    }
   ],
   "source": [
    "# take a look which pages are user in if \n",
    "spark.sql(\"select distinct page from df_mini where artist is not Null\").show()"
   ]
  },
  {
   "cell_type": "code",
   "execution_count": 12,
   "metadata": {
    "ExecuteTime": {
     "end_time": "2019-05-28T04:51:43.345809Z",
     "start_time": "2019-05-28T04:51:43.249916Z"
    }
   },
   "outputs": [
    {
     "name": "stdout",
     "output_type": "stream",
     "text": [
      "+----+\n",
      "|song|\n",
      "+----+\n",
      "|null|\n",
      "|null|\n",
      "+----+\n",
      "only showing top 2 rows\n",
      "\n"
     ]
    }
   ],
   "source": [
    "# take a look which pages are user in if \n",
    "spark.sql(\"select song from df_mini where userId = ''\").show(2)"
   ]
  },
  {
   "cell_type": "code",
   "execution_count": 13,
   "metadata": {
    "ExecuteTime": {
     "end_time": "2019-05-28T04:51:43.433802Z",
     "start_time": "2019-05-28T04:51:43.347945Z"
    }
   },
   "outputs": [],
   "source": [
    "# Filter out userId is null records\n",
    "mini_data_non0 = mini_data.filter(mini_data.userId != '')"
   ]
  },
  {
   "cell_type": "code",
   "execution_count": 14,
   "metadata": {
    "ExecuteTime": {
     "end_time": "2019-05-28T04:51:43.716134Z",
     "start_time": "2019-05-28T04:51:43.435939Z"
    }
   },
   "outputs": [
    {
     "data": {
      "text/plain": [
       "278154"
      ]
     },
     "execution_count": 14,
     "metadata": {},
     "output_type": "execute_result"
    }
   ],
   "source": [
    "mini_data_non0.count()"
   ]
  },
  {
   "cell_type": "code",
   "execution_count": 15,
   "metadata": {
    "ExecuteTime": {
     "end_time": "2019-05-28T04:51:43.728028Z",
     "start_time": "2019-05-28T04:51:43.717694Z"
    }
   },
   "outputs": [],
   "source": [
    "mini_data_non0.createOrReplaceTempView(\"df_mini_non0\")"
   ]
  },
  {
   "cell_type": "code",
   "execution_count": 16,
   "metadata": {
    "ExecuteTime": {
     "end_time": "2019-05-28T04:51:48.242047Z",
     "start_time": "2019-05-28T04:51:43.729870Z"
    }
   },
   "outputs": [
    {
     "data": {
      "text/plain": [
       "[('artist', 50046),\n",
       " ('auth', 0),\n",
       " ('firstName', 0),\n",
       " ('gender', 0),\n",
       " ('itemInSession', 0),\n",
       " ('lastName', 0),\n",
       " ('length', 50046),\n",
       " ('level', 0),\n",
       " ('location', 0),\n",
       " ('method', 0),\n",
       " ('page', 0),\n",
       " ('registration', 0),\n",
       " ('sessionId', 0),\n",
       " ('song', 50046),\n",
       " ('status', 0),\n",
       " ('ts', 0),\n",
       " ('userAgent', 0),\n",
       " ('userId', 0)]"
      ]
     },
     "execution_count": 16,
     "metadata": {},
     "output_type": "execute_result"
    }
   ],
   "source": [
    "# print out null sums in each column \n",
    "[(c, spark.sql(\"select * from df_mini_non0 where {} is Null\".format(c)).count()) for c in mini_data_non0.columns]"
   ]
  },
  {
   "cell_type": "code",
   "execution_count": 17,
   "metadata": {
    "ExecuteTime": {
     "end_time": "2019-05-28T04:51:48.248371Z",
     "start_time": "2019-05-28T04:51:48.243466Z"
    }
   },
   "outputs": [],
   "source": [
    "# add if categorical / continous\n",
    "def plot_vara_cnt(vara):\n",
    "    \"\"\" Show variable's unique count, if unique values less than 20 plot each value's the distribution.\n",
    "    INPUT:\n",
    "    vara: -- (string), variable need to be counted.\n",
    "    OUTPUT:\n",
    "    plot corresponding counts\n",
    "    \"\"\"\n",
    "    \n",
    "    ttl_uniq_cnt = mini_data_non0.select([vara]).dropDuplicates().count()\n",
    "    mini_data_non0_pd = mini_data_non0.toPandas()\n",
    "    \n",
    "    if ttl_uniq_cnt >20:\n",
    "        print(\"In this dataset, there are total {} unique {}\".format(ttl_uniq_cnt, vara))\n",
    "        \n",
    "        \n",
    "    elif vara in ['gender','firstName','lastnAME','location']:\n",
    "        mini_data_non0_pd_uni = mini_data_non0_pd.drop_duplicates(['userId','gender'])\n",
    "        mini_data_non0_pd_uni.groupby([vara])['userId'].count().plot(kind = 'bar')\n",
    "        plt.show()\n",
    "        \n",
    "    else:\n",
    "        mini_data_non0_pd.groupby([vara])['userId'].count().plot(kind = 'bar')\n",
    "        plt.show()"
   ]
  },
  {
   "cell_type": "code",
   "execution_count": 18,
   "metadata": {
    "ExecuteTime": {
     "end_time": "2019-05-28T04:51:53.593857Z",
     "start_time": "2019-05-28T04:51:48.250357Z"
    }
   },
   "outputs": [
    {
     "name": "stdout",
     "output_type": "stream",
     "text": [
      "In this dataset, there are total 225 unique userId\n"
     ]
    }
   ],
   "source": [
    "plot_vara_cnt('userId')"
   ]
  },
  {
   "cell_type": "code",
   "execution_count": 19,
   "metadata": {
    "ExecuteTime": {
     "end_time": "2019-05-28T04:51:58.577673Z",
     "start_time": "2019-05-28T04:51:53.595637Z"
    }
   },
   "outputs": [
    {
     "data": {
      "image/png": "[encoded data removed]",
      "text/plain": [
       "<Figure size 432x288 with 1 Axes>"
      ]
     },
     "metadata": {
      "needs_background": "light"
     },
     "output_type": "display_data"
    }
   ],
   "source": [
    "plot_vara_cnt('gender')"
   ]
  },
  {
   "cell_type": "code",
   "execution_count": 20,
   "metadata": {
    "ExecuteTime": {
     "end_time": "2019-05-28T04:52:03.522451Z",
     "start_time": "2019-05-28T04:51:58.579366Z"
    }
   },
   "outputs": [
    {
     "name": "stdout",
     "output_type": "stream",
     "text": [
      "In this dataset, there are total 17656 unique artist\n"
     ]
    }
   ],
   "source": [
    "plot_vara_cnt('artist')"
   ]
  },
  {
   "cell_type": "code",
   "execution_count": 21,
   "metadata": {
    "ExecuteTime": {
     "end_time": "2019-05-28T04:52:08.530350Z",
     "start_time": "2019-05-28T04:52:03.524081Z"
    }
   },
   "outputs": [
    {
     "name": "stdout",
     "output_type": "stream",
     "text": [
      "In this dataset, there are total 1311 unique itemInSession\n"
     ]
    }
   ],
   "source": [
    "plot_vara_cnt('itemInSession')"
   ]
  },
  {
   "cell_type": "code",
   "execution_count": 22,
   "metadata": {
    "ExecuteTime": {
     "end_time": "2019-05-28T04:52:13.347570Z",
     "start_time": "2019-05-28T04:52:08.532419Z"
    }
   },
   "outputs": [
    {
     "data": {
      "image/png": "[encoded data removed]",
      "text/plain": [
       "<Figure size 432x288 with 1 Axes>"
      ]
     },
     "metadata": {
      "needs_background": "light"
     },
     "output_type": "display_data"
    }
   ],
   "source": [
    "plot_vara_cnt('level')"
   ]
  },
  {
   "cell_type": "code",
   "execution_count": 23,
   "metadata": {
    "ExecuteTime": {
     "end_time": "2019-05-28T04:52:18.380816Z",
     "start_time": "2019-05-28T04:52:13.349472Z"
    }
   },
   "outputs": [
    {
     "data": {
      "image/png": "[encoded data removed]",
      "text/plain": [
       "<Figure size 432x288 with 1 Axes>"
      ]
     },
     "metadata": {
      "needs_background": "light"
     },
     "output_type": "display_data"
    }
   ],
   "source": [
    "plot_vara_cnt('page')"
   ]
  },
  {
   "cell_type": "code",
   "execution_count": 24,
   "metadata": {
    "ExecuteTime": {
     "end_time": "2019-05-28T04:52:23.134004Z",
     "start_time": "2019-05-28T04:52:18.382832Z"
    }
   },
   "outputs": [
    {
     "name": "stdout",
     "output_type": "stream",
     "text": [
      "In this dataset, there are total 225 unique registration\n"
     ]
    }
   ],
   "source": [
    "plot_vara_cnt('registration')"
   ]
  },
  {
   "cell_type": "code",
   "execution_count": 25,
   "metadata": {
    "ExecuteTime": {
     "end_time": "2019-05-28T04:52:27.914269Z",
     "start_time": "2019-05-28T04:52:23.136147Z"
    }
   },
   "outputs": [
    {
     "name": "stdout",
     "output_type": "stream",
     "text": [
      "In this dataset, there are total 58481 unique song\n"
     ]
    }
   ],
   "source": [
    "plot_vara_cnt('song')"
   ]
  },
  {
   "cell_type": "code",
   "execution_count": 26,
   "metadata": {
    "ExecuteTime": {
     "end_time": "2019-05-28T04:52:33.105775Z",
     "start_time": "2019-05-28T04:52:27.916115Z"
    }
   },
   "outputs": [
    {
     "data": {
      "image/png": "[encoded data removed]",
      "text/plain": [
       "<Figure size 432x288 with 1 Axes>"
      ]
     },
     "metadata": {
      "needs_background": "light"
     },
     "output_type": "display_data"
    }
   ],
   "source": [
    "plot_vara_cnt('status')"
   ]
  },
  {
   "cell_type": "code",
   "execution_count": 27,
   "metadata": {
    "ExecuteTime": {
     "end_time": "2019-05-28T04:52:37.761510Z",
     "start_time": "2019-05-28T04:52:33.113403Z"
    }
   },
   "outputs": [
    {
     "name": "stdout",
     "output_type": "stream",
     "text": [
      "In this dataset, there are total 56 unique userAgent\n"
     ]
    }
   ],
   "source": [
    "plot_vara_cnt('userAgent')"
   ]
  },
  {
   "cell_type": "code",
   "execution_count": 28,
   "metadata": {
    "ExecuteTime": {
     "end_time": "2019-05-28T04:52:37.801985Z",
     "start_time": "2019-05-28T04:52:37.764442Z"
    }
   },
   "outputs": [
    {
     "data": {
      "text/plain": [
       "0"
      ]
     },
     "execution_count": 28,
     "metadata": {},
     "output_type": "execute_result"
    }
   ],
   "source": [
    "gc.collect()"
   ]
  },
  {
   "cell_type": "markdown",
   "metadata": {},
   "source": [
    "# Feature Engineering\n",
    "## Define Churn\n",
    "For a music service company, we could define churn as cancel service and even more downgrade service could be counted. I will create a column Churn by using either the Cancellation Confirmation events alone or with Downgrade events together. Will decide after exploring the event counts."
   ]
  },
  {
   "cell_type": "code",
   "execution_count": 29,
   "metadata": {
    "ExecuteTime": {
     "end_time": "2019-05-28T04:52:38.396627Z",
     "start_time": "2019-05-28T04:52:37.804301Z"
    }
   },
   "outputs": [
    {
     "data": {
      "text/plain": [
       "52"
      ]
     },
     "execution_count": 29,
     "metadata": {},
     "output_type": "execute_result"
    }
   ],
   "source": [
    "# Define Churn\n",
    "# To look how many unique users submit cancellation\n",
    "mini_data_non0.select(['userId']).where(mini_data_non0.page.isin(['Cancellation Confirmation'])).dropDuplicates().count()"
   ]
  },
  {
   "cell_type": "code",
   "execution_count": 30,
   "metadata": {
    "ExecuteTime": {
     "end_time": "2019-05-28T04:52:38.959075Z",
     "start_time": "2019-05-28T04:52:38.398484Z"
    }
   },
   "outputs": [
    {
     "data": {
      "text/plain": [
       "171"
      ]
     },
     "execution_count": 30,
     "metadata": {},
     "output_type": "execute_result"
    }
   ],
   "source": [
    "# Look how many unique users submit cancellation or Downgrade\n",
    "mini_data_non0.select(['userId']).where(mini_data_non0.page.isin(['Cancellation Confirmation','Downgrade'])).dropDuplicates().count()"
   ]
  },
  {
   "cell_type": "code",
   "execution_count": 31,
   "metadata": {
    "ExecuteTime": {
     "end_time": "2019-05-28T04:52:39.403314Z",
     "start_time": "2019-05-28T04:52:38.961558Z"
    }
   },
   "outputs": [
    {
     "data": {
      "text/plain": [
       "225"
      ]
     },
     "execution_count": 31,
     "metadata": {},
     "output_type": "execute_result"
    }
   ],
   "source": [
    "# Total users\n",
    "mini_data_non0.select(['userId']).dropDuplicates().count()"
   ]
  },
  {
   "cell_type": "markdown",
   "metadata": {},
   "source": [
    "## Findings\n",
    "\n",
    "1. There are total 225 unique users in this dataset.\n",
    "2. Out of these 225 unique users, 52 submitted cancellations and 171 submitted either cancellations or downgrades.\n",
    "\n",
    "\n",
    "Decide to use the Cancellation Confirmation events as churn label since the proportion of Downgrade users is too large."
   ]
  },
  {
   "cell_type": "code",
   "execution_count": 32,
   "metadata": {
    "ExecuteTime": {
     "end_time": "2019-05-28T04:52:39.481395Z",
     "start_time": "2019-05-28T04:52:39.405504Z"
    }
   },
   "outputs": [],
   "source": [
    "# Create new column to label cancellation or not\n",
    "# define churn function\n",
    "cancellation_event = udf(lambda x: 1 if x == 'Cancellation Confirmation' else 0, IntegerType())\n",
    "# apply churn function\n",
    "mini_data_non0 = mini_data_non0.withColumn(\"churn\", cancellation_event(\"page\"))\n",
    "# fill churn user na as 0s\n",
    "mini_data_non0 = mini_data_non0.na.fill({'churn': 0})"
   ]
  },
  {
   "cell_type": "code",
   "execution_count": 33,
   "metadata": {
    "ExecuteTime": {
     "end_time": "2019-05-28T04:52:39.532168Z",
     "start_time": "2019-05-28T04:52:39.483140Z"
    }
   },
   "outputs": [],
   "source": [
    "# get some time related cols from ts\n",
    "ts_to_hour = udf(lambda x: datetime.fromtimestamp(x / 1000.0).hour)\n",
    "mini_data_non0 = mini_data_non0.withColumn(\"hour\",ts_to_hour(\"ts\"))\n",
    "ts_to_day = udf(lambda x: datetime.fromtimestamp(x / 1000.0).day)\n",
    "mini_data_non0 = mini_data_non0.withColumn(\"day\",ts_to_day(\"ts\"))\n",
    "mini_data_non0 = mini_data_non0.withColumn(\"date\",from_unixtime(mini_data_non0.ts/1000).cast(DateType()))"
   ]
  },
  {
   "cell_type": "code",
   "execution_count": 34,
   "metadata": {
    "ExecuteTime": {
     "end_time": "2019-05-28T04:52:41.494599Z",
     "start_time": "2019-05-28T04:52:39.533938Z"
    }
   },
   "outputs": [
    {
     "name": "stdout",
     "output_type": "stream",
     "text": [
      "+----------+------+\n",
      "|      date|userId|\n",
      "+----------+------+\n",
      "|2018-10-02|100011|\n",
      "|2018-10-02|100001|\n",
      "|2018-10-05|100006|\n",
      "|2018-10-05|300007|\n",
      "|2018-10-05|100024|\n",
      "+----------+------+\n",
      "only showing top 5 rows\n",
      "\n"
     ]
    }
   ],
   "source": [
    "# set a temp sql view\n",
    "mini_data_non0.createOrReplaceTempView(\"df_mini_non0\")\n",
    "\n",
    "# churn users' churn date distirbution\n",
    "churn_date = spark.sql(\"select distinct date, userId \\\n",
    "               from df_mini_non0 where churn = 1 \\\n",
    "               order by date\")\n",
    "\n",
    "churn_date.show(5)"
   ]
  },
  {
   "cell_type": "code",
   "execution_count": 35,
   "metadata": {
    "ExecuteTime": {
     "end_time": "2019-05-28T04:52:42.826571Z",
     "start_time": "2019-05-28T04:52:41.497562Z"
    }
   },
   "outputs": [
    {
     "data": {
      "text/plain": [
       "52"
      ]
     },
     "execution_count": 35,
     "metadata": {},
     "output_type": "execute_result"
    }
   ],
   "source": [
    "churn_date.count()"
   ]
  },
  {
   "cell_type": "code",
   "execution_count": 36,
   "metadata": {
    "ExecuteTime": {
     "end_time": "2019-05-28T04:52:44.080249Z",
     "start_time": "2019-05-28T04:52:42.828470Z"
    }
   },
   "outputs": [
    {
     "data": {
      "image/png": "[encoded data removed]",
      "text/plain": [
       "<Figure size 432x288 with 1 Axes>"
      ]
     },
     "metadata": {
      "needs_background": "light"
     },
     "output_type": "display_data"
    }
   ],
   "source": [
    "# Plot churn date distirbution\n",
    "churn_date_pd = churn_date.toPandas()\n",
    "churn_date_pd.groupby('date')['userId'].count().plot()\n",
    "plt.xticks(rotation = 60)\n",
    "plt.show()"
   ]
  },
  {
   "cell_type": "code",
   "execution_count": 37,
   "metadata": {
    "ExecuteTime": {
     "end_time": "2019-05-28T04:52:45.669042Z",
     "start_time": "2019-05-28T04:52:44.082169Z"
    }
   },
   "outputs": [
    {
     "name": "stdout",
     "output_type": "stream",
     "text": [
      "+----------+--------+\n",
      "|after_1101|count(1)|\n",
      "+----------+--------+\n",
      "|         Y|      22|\n",
      "|         N|      30|\n",
      "+----------+--------+\n",
      "\n"
     ]
    }
   ],
   "source": [
    "spark.sql(\"select after_1101, count(*) from \\\n",
    "          (select userId, date, \\\n",
    "           case when date >= '2018-11-01' then 'Y' else 'N' end as after_1101\\\n",
    "           from df_mini_non0 \\\n",
    "           where churn = 1) as a \\\n",
    "           group by after_1101\").show()"
   ]
  },
  {
   "cell_type": "markdown",
   "metadata": {},
   "source": [
    "## Thoughts: \n",
    "\n",
    "In order to take actions before user churn, we need set-up an observation period and to predict user churn scenario in the upcoming target period. In real business world, month is common period for track the performance metric. Thus, in this project I'll use user monthly activities to predict next month churn.\n",
    "\n",
    "I will select 2018-11-01 as the benchmark date, 2018-10-01 to 2018-10-31 as the observational period and customers active at 2018-10-31 as base customer counts. Customers who churned between 2018-11-01 and 2018-11-30 as target churned customers. All customers who churned before 2018-11-01 will be removed from the analysis. In other words, only keep customers who were active at 2018-10-31.\n",
    "\n",
    "Unique customers:\n",
    "\n",
    "- Baseline: (214 - (52-22)) = 184.\n",
    "- Churned in the folowing month: 22.\n",
    "- Monthly Churn Rate: 22/184 = 12%\n",
    "\n",
    "\n",
    "1. Get obervational period data"
   ]
  },
  {
   "cell_type": "code",
   "execution_count": 38,
   "metadata": {
    "ExecuteTime": {
     "end_time": "2019-05-28T04:52:45.706404Z",
     "start_time": "2019-05-28T04:52:45.671305Z"
    }
   },
   "outputs": [],
   "source": [
    "mini_data_non0.createOrReplaceTempView(\"df_mini_non0\")\n",
    "\n",
    "mini_data_obv = spark.sql(\"select * from df_mini_non0 \\\n",
    "                          where date >= '2018-10-01' and date < '2018-11-01'\")"
   ]
  },
  {
   "cell_type": "markdown",
   "metadata": {},
   "source": [
    "2. Remove users churned between 2018-10-01 and 2018-11-01"
   ]
  },
  {
   "cell_type": "code",
   "execution_count": 39,
   "metadata": {
    "ExecuteTime": {
     "end_time": "2019-05-28T04:52:45.802752Z",
     "start_time": "2019-05-28T04:52:45.708348Z"
    }
   },
   "outputs": [],
   "source": [
    "# get unique churn users\n",
    "churn_user_obv = mini_data_obv.select(['userId']).where(mini_data_obv.churn == 1).dropDuplicates()\n",
    "# assign new churn user label to churn users\n",
    "churn_user_obv = churn_user_obv.withColumn(\"churn_user_obv\", lit(1))\n",
    "# join churn user back to original table and got an label\n",
    "mini_data_obv = mini_data_obv.join(churn_user_obv, \"userId\", how = 'outer')\n",
    "# remove users records who churn between 2018-10-01 and 2018-11-01\n",
    "mini_data_obv = mini_data_obv.where(col('churn_user_obv').isNull())"
   ]
  },
  {
   "cell_type": "code",
   "execution_count": null,
   "metadata": {},
   "outputs": [],
   "source": []
  },
  {
   "cell_type": "markdown",
   "metadata": {},
   "source": [
    "3.Get unique userIds who churned during target period 2018-11-01 and 2018-12-01, then join back with the observational period."
   ]
  },
  {
   "cell_type": "code",
   "execution_count": 40,
   "metadata": {
    "ExecuteTime": {
     "end_time": "2019-05-28T04:52:45.866394Z",
     "start_time": "2019-05-28T04:52:45.805398Z"
    }
   },
   "outputs": [],
   "source": [
    "# Churn period data\n",
    "mini_data_target = spark.sql(\"select * from df_mini_non0 \\\n",
    "                          where date >= '2018-11-01' and date < '2018-12-01'\")\n",
    "\n",
    "# unique users churned during the target period\n",
    "churn_user_target = mini_data_target.select(['userId']).where(mini_data_target.churn == 1).dropDuplicates()\n",
    "\n",
    "# assign new churn user label to churn users\n",
    "churn_user_target = churn_user_target.withColumn(\"churn_user_target\", lit(1))\n",
    "\n",
    "# join churn user back to observal table and got an label\n",
    "mini_data_obv = mini_data_obv.join(churn_user_target, \"userId\", how = 'outer')\n",
    "\n",
    "# fill na with 0s in the observational dataset\n",
    "mini_data_obv = mini_data_obv.fillna(0, subset = ['churn_user_target'])\n",
    "\n",
    "# Drop some columns\n",
    "mini_data_obv = mini_data_obv.drop('churn').drop('churn_user_obv')"
   ]
  },
  {
   "cell_type": "code",
   "execution_count": 41,
   "metadata": {
    "ExecuteTime": {
     "end_time": "2019-05-28T04:52:54.124186Z",
     "start_time": "2019-05-28T04:52:49.489855Z"
    }
   },
   "outputs": [
    {
     "name": "stdout",
     "output_type": "stream",
     "text": [
      "+-----------------+------+\n",
      "|churn_user_target|   cnt|\n",
      "+-----------------+------+\n",
      "|                0|106629|\n",
      "|                1| 19624|\n",
      "+-----------------+------+\n",
      "\n"
     ]
    }
   ],
   "source": [
    "# set temp sql view\n",
    "mini_data_obv.createOrReplaceTempView(\"df_mini_non0_obv\")\n",
    "\n",
    "# churn/not churn counts\n",
    "spark.sql(\"select churn_user_target, count(*) as cnt from df_mini_non0_obv\\\n",
    "           group by churn_user_target order by churn_user_target\").show()"
   ]
  },
  {
   "cell_type": "code",
   "execution_count": 42,
   "metadata": {
    "ExecuteTime": {
     "end_time": "2019-05-28T04:53:02.166237Z",
     "start_time": "2019-05-28T04:52:58.408159Z"
    }
   },
   "outputs": [
    {
     "name": "stdout",
     "output_type": "stream",
     "text": [
      "+-----------------+---+\n",
      "|churn_user_target|cnt|\n",
      "+-----------------+---+\n",
      "|                0|161|\n",
      "|                1| 22|\n",
      "+-----------------+---+\n",
      "\n"
     ]
    }
   ],
   "source": [
    "# unique churn/nonchurn unique user counts in observational period\n",
    "spark.sql(\"select churn_user_target, count(*) as cnt from \\\n",
    "          (select distinct userId,  churn_user_target from df_mini_non0_obv)\\\n",
    "          group by churn_user_target order by churn_user_target\").show()"
   ]
  },
  {
   "cell_type": "markdown",
   "metadata": {},
   "source": [
    "## Data Transformation and Explotary\n",
    "Transform raw log data into user - feature format dataframe. For example, for certain time period keep distinct values for each customer -- gender, aggregate (sum or average) -- total song played, pages visited etc, paid/free status change etc.\n",
    "\n",
    "Then perform some data exploratary between churn/stay group users.\n",
    "\n",
    "4. Transform dataframe into user - feature format. Total would be 184 rows and many columns."
   ]
  },
  {
   "cell_type": "code",
   "execution_count": 43,
   "metadata": {
    "ExecuteTime": {
     "end_time": "2019-05-28T04:53:28.754077Z",
     "start_time": "2019-05-28T04:53:25.087031Z"
    }
   },
   "outputs": [
    {
     "data": {
      "text/plain": [
       "183"
      ]
     },
     "execution_count": 43,
     "metadata": {},
     "output_type": "execute_result"
    }
   ],
   "source": [
    "# gender\n",
    "df_gender = spark.sql(\"select distinct userId, gender, churn_user_target from df_mini_non0_obv\")\n",
    "df_gender.count()"
   ]
  },
  {
   "cell_type": "code",
   "execution_count": 44,
   "metadata": {
    "ExecuteTime": {
     "end_time": "2019-05-28T04:53:35.758068Z",
     "start_time": "2019-05-28T04:53:32.218109Z"
    }
   },
   "outputs": [
    {
     "name": "stdout",
     "output_type": "stream",
     "text": [
      "+-------+-----------------+\n",
      "|summary|         ttl_song|\n",
      "+-------+-----------------+\n",
      "|  count|              182|\n",
      "|   mean|565.4395604395604|\n",
      "| stddev|636.7841288173081|\n",
      "|    min|                1|\n",
      "|    max|             4971|\n",
      "+-------+-----------------+\n",
      "\n"
     ]
    }
   ],
   "source": [
    "# Total songs played during the month\n",
    "df_song = spark.sql(\"select userId, count(song) as ttl_song\\\n",
    "                     from df_mini_non0_obv \\\n",
    "                     where song is not Null \\\n",
    "                     group by userId\")\n",
    "\n",
    "df_song.describe('ttl_song').show()"
   ]
  },
  {
   "cell_type": "code",
   "execution_count": 45,
   "metadata": {
    "ExecuteTime": {
     "end_time": "2019-05-28T04:53:44.092210Z",
     "start_time": "2019-05-28T04:53:39.103535Z"
    }
   },
   "outputs": [
    {
     "name": "stdout",
     "output_type": "stream",
     "text": [
      "+----------+\n",
      "|opr_system|\n",
      "+----------+\n",
      "|  iPad; CP|\n",
      "|  Windows |\n",
      "|  compatib|\n",
      "|  Macintos|\n",
      "|  iPhone; |\n",
      "|  X11; Ubu|\n",
      "|  X11; Lin|\n",
      "+----------+\n",
      "\n"
     ]
    }
   ],
   "source": [
    "# userAgent\n",
    "df_useAgen = spark.sql(\"select distinct userId, userAgent, churn_user_target from df_mini_non0_obv\")\n",
    "remove_qot = udf(lambda x: x.replace(u'\"',''))\n",
    "substr_agent = udf(lambda x: x[13:21], StringType())\n",
    "df_useAgen = df_useAgen.withColumn(\"opr_system\", substr_agent(remove_qot(\"userAgent\")))\n",
    "df_useAgen.select(['opr_system']).dropDuplicates().show()"
   ]
  },
  {
   "cell_type": "code",
   "execution_count": 46,
   "metadata": {
    "ExecuteTime": {
     "end_time": "2019-05-28T04:53:51.569363Z",
     "start_time": "2019-05-28T04:53:48.518191Z"
    }
   },
   "outputs": [
    {
     "data": {
      "text/plain": [
       "183"
      ]
     },
     "execution_count": 46,
     "metadata": {},
     "output_type": "execute_result"
    }
   ],
   "source": [
    "# location\n",
    "df_location = spark.sql(\"select distinct userId, location, churn_user_target from df_mini_non0_obv\")\n",
    "# extract State -- 37\n",
    "substr_state = udf(lambda x: x[-2:], StringType())\n",
    "df_location = df_location.withColumn(\"state\", substr_state(\"location\"))\n",
    "df_location.count()"
   ]
  },
  {
   "cell_type": "code",
   "execution_count": 47,
   "metadata": {
    "ExecuteTime": {
     "end_time": "2019-05-28T04:54:04.377082Z",
     "start_time": "2019-05-28T04:53:57.505353Z"
    }
   },
   "outputs": [
    {
     "name": "stdout",
     "output_type": "stream",
     "text": [
      "+------+-----+----------+---------------+---------+-----+----+----+------+--------+-----------+-------------+--------+----------------+--------------+-----------+---------+-------+\n",
      "|userId|About|Add Friend|Add to Playlist|Downgrade|Error|Help|Home|Logout|NextSong|Roll Advert|Save Settings|Settings|Submit Downgrade|Submit Upgrade|Thumbs Down|Thumbs Up|Upgrade|\n",
      "+------+-----+----------+---------------+---------+-----+----+----+------+--------+-----------+-------------+--------+----------------+--------------+-----------+---------+-------+\n",
      "|200002|    2|         4|              6|        3|    0|   1|  14|     3|     267|          7|            0|       3|               0|             1|          6|       15|      2|\n",
      "|100010|    0|         3|              2|        0|    0|   1|   6|     2|     120|         22|            0|       0|               0|             0|          1|        6|      1|\n",
      "+------+-----+----------+---------------+---------+-----+----+----+------+--------+-----------+-------------+--------+----------------+--------------+-----------+---------+-------+\n",
      "only showing top 2 rows\n",
      "\n"
     ]
    }
   ],
   "source": [
    "# Pages\n",
    "# Use pivot table to transform them into user-page format and value as how many times user visited.\n",
    "# reshap page count -- userId as row and page as column, count as value\n",
    "df_page = mini_data_obv.groupby('userId').pivot('page').count()\n",
    "# fillna as 0s\n",
    "df_page = df_page.fillna(0)\n",
    "df_page.show(2)"
   ]
  },
  {
   "cell_type": "code",
   "execution_count": null,
   "metadata": {
    "ExecuteTime": {
     "end_time": "2019-05-28T04:54:04.415236Z",
     "start_time": "2019-05-28T04:54:03.702Z"
    }
   },
   "outputs": [],
   "source": [
    "df_page.count()"
   ]
  },
  {
   "cell_type": "code",
   "execution_count": 48,
   "metadata": {
    "ExecuteTime": {
     "end_time": "2019-05-28T04:54:32.287556Z",
     "start_time": "2019-05-28T04:54:32.276232Z"
    }
   },
   "outputs": [
    {
     "name": "stdout",
     "output_type": "stream",
     "text": [
      "root\n",
      " |-- userId: string (nullable = true)\n",
      " |-- About: long (nullable = true)\n",
      " |-- Add Friend: long (nullable = true)\n",
      " |-- Add to Playlist: long (nullable = true)\n",
      " |-- Downgrade: long (nullable = true)\n",
      " |-- Error: long (nullable = true)\n",
      " |-- Help: long (nullable = true)\n",
      " |-- Home: long (nullable = true)\n",
      " |-- Logout: long (nullable = true)\n",
      " |-- NextSong: long (nullable = true)\n",
      " |-- Roll Advert: long (nullable = true)\n",
      " |-- Save Settings: long (nullable = true)\n",
      " |-- Settings: long (nullable = true)\n",
      " |-- Submit Downgrade: long (nullable = true)\n",
      " |-- Submit Upgrade: long (nullable = true)\n",
      " |-- Thumbs Down: long (nullable = true)\n",
      " |-- Thumbs Up: long (nullable = true)\n",
      " |-- Upgrade: long (nullable = true)\n",
      "\n"
     ]
    }
   ],
   "source": [
    "df_page.printSchema()"
   ]
  },
  {
   "cell_type": "code",
   "execution_count": 49,
   "metadata": {
    "ExecuteTime": {
     "end_time": "2019-05-28T04:54:46.209058Z",
     "start_time": "2019-05-28T04:54:42.880291Z"
    }
   },
   "outputs": [
    {
     "name": "stdout",
     "output_type": "stream",
     "text": [
      "+-------+------------------+\n",
      "|summary|   avg_song_length|\n",
      "+-------+------------------+\n",
      "|  count|               182|\n",
      "|   mean|248.86263736263737|\n",
      "| stddev| 7.287909435847549|\n",
      "|    min|             222.0|\n",
      "|    max|             280.0|\n",
      "+-------+------------------+\n",
      "\n"
     ]
    }
   ],
   "source": [
    "# avg song length\n",
    "df_song_length = spark.sql(\"select userId, round(avg(length)) as avg_song_length\\\n",
    "                        from df_mini_non0_obv \\\n",
    "                        where song is not Null \\\n",
    "                        group by userId\")\n",
    "\n",
    "df_song_length.describe('avg_song_length').show()"
   ]
  },
  {
   "cell_type": "markdown",
   "metadata": {},
   "source": [
    "## Thoughts:\n",
    "\n",
    "For \"level\", users might be paid/free level for the month, they could change from paid to free, free to paid in this month, maybe many times. So I created variables to track how many times each user from paid to free, from free to paid, and indicator of they staying paid/free for the whole month."
   ]
  },
  {
   "cell_type": "code",
   "execution_count": 50,
   "metadata": {
    "ExecuteTime": {
     "end_time": "2019-05-28T04:55:06.069103Z",
     "start_time": "2019-05-28T04:55:05.961097Z"
    }
   },
   "outputs": [],
   "source": [
    "# detect level change\n",
    "# reference: https://fle.github.io/detect-value-changes-between-successive-lines-with-postgresql.html\n",
    "\n",
    "# mark level, prev_level, next_level and level change label and always paid or always free label\n",
    "\n",
    "df_level = spark.sql(\"select userId, ttl_paid2free, ttl_free2paid, \\\n",
    "                      case when ttl_lvl_free == 0 then 1 else 0 end as always_paid, \\\n",
    "                      case when ttl_lvl_paid == 0 then 1 else 0 end as always_free \\\n",
    "                      from  \\\n",
    "                      (select userId, sum(paid2free) as ttl_paid2free, sum(free2paid) as ttl_free2paid, \\\n",
    "                      sum(level_paid) as ttl_lvl_paid, sum(level_free) as ttl_lvl_free \\\n",
    "                      from \\\n",
    "                      (select userId, date, level, prev_level, next_level, page, hour, \\\n",
    "                       case when (prev_level == 'paid' and level == 'free') then 1 else 0 end as paid2free, \\\n",
    "                       case when (prev_level == 'free' and level == 'paid') then 1 else 0 end as free2paid, \\\n",
    "                       case when (level == 'paid') then 1 else 0 end as level_paid, \\\n",
    "                       case when (level == 'free') then 1 else 0 end as level_free \\\n",
    "                       from \\\n",
    "                       (select userId, date, level, page, hour, \\\n",
    "                       lag(level) OVER (ORDER BY userId, date) as prev_level, \\\n",
    "                       lead(level) OVER (ORDER BY userId,date) as next_level \\\n",
    "                       from df_mini_non0_obv) as a) as b \\\n",
    "                       group by userId) as c\")"
   ]
  },
  {
   "cell_type": "code",
   "execution_count": 52,
   "metadata": {
    "ExecuteTime": {
     "end_time": "2019-05-28T04:55:24.051684Z",
     "start_time": "2019-05-28T04:55:20.686925Z"
    }
   },
   "outputs": [
    {
     "name": "stdout",
     "output_type": "stream",
     "text": [
      "+------+-------------+-------------+-----------+-----------+\n",
      "|userId|ttl_paid2free|ttl_free2paid|always_paid|always_free|\n",
      "+------+-------------+-------------+-----------+-----------+\n",
      "|    10|            0|            0|          1|          0|\n",
      "|   100|            0|            0|          1|          0|\n",
      "|100002|            0|            0|          1|          0|\n",
      "|100004|            3|            2|          0|          0|\n",
      "|100007|            0|            1|          1|          0|\n",
      "+------+-------------+-------------+-----------+-----------+\n",
      "only showing top 5 rows\n",
      "\n"
     ]
    }
   ],
   "source": [
    "df_level.show(5)"
   ]
  },
  {
   "cell_type": "code",
   "execution_count": 53,
   "metadata": {
    "ExecuteTime": {
     "end_time": "2019-05-28T04:55:34.877656Z",
     "start_time": "2019-05-28T04:55:31.984501Z"
    }
   },
   "outputs": [
    {
     "data": {
      "text/plain": [
       "364"
      ]
     },
     "execution_count": 53,
     "metadata": {},
     "output_type": "execute_result"
    }
   ],
   "source": [
    "# method \n",
    "df_method = spark.sql(\"select distinct userId, method, churn_user_target from df_mini_non0_obv sort by userId\")\n",
    "df_method.count()"
   ]
  },
  {
   "cell_type": "code",
   "execution_count": 54,
   "metadata": {
    "ExecuteTime": {
     "end_time": "2019-05-28T04:55:41.375428Z",
     "start_time": "2019-05-28T04:55:38.599002Z"
    }
   },
   "outputs": [
    {
     "name": "stdout",
     "output_type": "stream",
     "text": [
      "+------+\n",
      "|method|\n",
      "+------+\n",
      "|   PUT|\n",
      "|   GET|\n",
      "+------+\n",
      "\n"
     ]
    }
   ],
   "source": [
    "spark.sql(\"select distinct method from df_mini_non0_obv\").show()"
   ]
  },
  {
   "cell_type": "code",
   "execution_count": 55,
   "metadata": {
    "ExecuteTime": {
     "end_time": "2019-05-28T04:55:47.942678Z",
     "start_time": "2019-05-28T04:55:44.804670Z"
    }
   },
   "outputs": [
    {
     "data": {
      "text/plain": [
       "183"
      ]
     },
     "execution_count": 55,
     "metadata": {},
     "output_type": "execute_result"
    }
   ],
   "source": [
    "# registration -- drop since each user has an distinct regi number\n",
    "df_regi = spark.sql(\"select distinct userId, registration, churn_user_target from df_mini_non0_obv sort by userId\")\n",
    "df_regi.count()"
   ]
  },
  {
   "cell_type": "code",
   "execution_count": 56,
   "metadata": {
    "ExecuteTime": {
     "end_time": "2019-05-28T04:55:56.626806Z",
     "start_time": "2019-05-28T04:55:53.711021Z"
    }
   },
   "outputs": [
    {
     "data": {
      "text/plain": [
       "1601"
      ]
     },
     "execution_count": 56,
     "metadata": {},
     "output_type": "execute_result"
    }
   ],
   "source": [
    "# sessionId -- drop since too much level\n",
    "df_session = spark.sql(\"select distinct userId, sessionId, churn_user_target from df_mini_non0_obv sort by userId\")\n",
    "df_session.count()"
   ]
  },
  {
   "cell_type": "code",
   "execution_count": 57,
   "metadata": {
    "ExecuteTime": {
     "end_time": "2019-05-28T04:56:03.845622Z",
     "start_time": "2019-05-28T04:56:00.918409Z"
    }
   },
   "outputs": [
    {
     "name": "stdout",
     "output_type": "stream",
     "text": [
      "+------+\n",
      "|status|\n",
      "+------+\n",
      "|   307|\n",
      "|   404|\n",
      "|   200|\n",
      "+------+\n",
      "\n"
     ]
    }
   ],
   "source": [
    "spark.sql(\"select distinct status from df_mini_non0_obv\").show()"
   ]
  },
  {
   "cell_type": "code",
   "execution_count": 58,
   "metadata": {
    "ExecuteTime": {
     "end_time": "2019-05-28T04:56:11.719229Z",
     "start_time": "2019-05-28T04:56:11.443646Z"
    }
   },
   "outputs": [],
   "source": [
    "# select distinct gender, state, opr system, total songs, pages,level-status and join them together\n",
    "\n",
    "df_fe = df_gender.join(df_location.select(['userId','state']), \"userId\")\\\n",
    "                 .join(df_useAgen.select(['userId','opr_system']), \"userId\")\\\n",
    "                 .join(df_song, \"userId\")\\\n",
    "                 .join(df_page, \"userId\")\\\n",
    "                 .join(df_song_length, \"userId\")\\\n",
    "                 .join(df_level, \"userId\")"
   ]
  },
  {
   "cell_type": "code",
   "execution_count": 59,
   "metadata": {
    "ExecuteTime": {
     "end_time": "2019-05-28T04:56:41.716539Z",
     "start_time": "2019-05-28T04:56:24.626320Z"
    }
   },
   "outputs": [
    {
     "name": "stdout",
     "output_type": "stream",
     "text": [
      "+------+------+-----------------+-----+----------+--------+-----+----------+---------------+---------+-----+----+----+------+--------+-----------+-------------+--------+----------------+--------------+-----------+---------+-------+---------------+-------------+-------------+-----------+-----------+\n",
      "|userId|gender|churn_user_target|state|opr_system|ttl_song|About|Add Friend|Add to Playlist|Downgrade|Error|Help|Home|Logout|NextSong|Roll Advert|Save Settings|Settings|Submit Downgrade|Submit Upgrade|Thumbs Down|Thumbs Up|Upgrade|avg_song_length|ttl_paid2free|ttl_free2paid|always_paid|always_free|\n",
      "+------+------+-----------------+-----+----------+--------+-----+----------+---------------+---------+-----+----+----+------+--------+-----------+-------------+--------+----------------+--------------+-----------+---------+-------+---------------+-------------+-------------+-----------+-----------+\n",
      "|100010|     F|                0|   CT|  iPhone; |     120|    0|         3|              2|        0|    0|   1|   6|     2|     120|         22|            0|       0|               0|             0|          1|        6|      1|          236.0|            1|            0|          0|          1|\n",
      "|200002|     M|                0|   WI|  iPhone; |     267|    2|         4|              6|        3|    0|   1|  14|     3|     267|          7|            0|       3|               0|             1|          6|       15|      2|          242.0|            1|            1|          0|          0|\n",
      "+------+------+-----------------+-----+----------+--------+-----+----------+---------------+---------+-----+----+----+------+--------+-----------+-------------+--------+----------------+--------------+-----------+---------+-------+---------------+-------------+-------------+-----------+-----------+\n",
      "only showing top 2 rows\n",
      "\n"
     ]
    }
   ],
   "source": [
    "df_fe.show(2)"
   ]
  },
  {
   "cell_type": "code",
   "execution_count": 60,
   "metadata": {
    "ExecuteTime": {
     "end_time": "2019-05-28T04:56:43.969717Z",
     "start_time": "2019-05-28T04:56:43.757153Z"
    }
   },
   "outputs": [],
   "source": [
    "# replace space with '_' in column names \n",
    "# https://stackoverflow.com/questions/41655158/dynamically-rename-multiple-columns-in-pyspark-dataframe\n",
    "col_replace = {c:c.replace(' ', '_') for c in df_fe.columns if ' ' in c}\n",
    "df_fe = df_fe.select([col(c).alias(col_replace.get(c,c)) for c in df_fe.columns])\n",
    "\n",
    "# create and temp view\n",
    "df_fe.createOrReplaceTempView(\"mini_fe\")"
   ]
  },
  {
   "cell_type": "code",
   "execution_count": 61,
   "metadata": {
    "ExecuteTime": {
     "end_time": "2019-05-28T04:56:53.504961Z",
     "start_time": "2019-05-28T04:56:53.492255Z"
    }
   },
   "outputs": [],
   "source": [
    "# Explore difference between churn/stay user\n",
    "# https://stackoverflow.com/questions/1823599/calculating-percentage-within-a-group\n",
    "\n",
    "# add if categorical / continous\n",
    "def cunt_bychurn_vara(vara):\n",
    "    \"\"\" Show variable's unique count, and proportion by vara and churn/stay.\n",
    "    INPUT:\n",
    "    vara: -- (string), variable need to be counted.\n",
    "    OUTPUT:\n",
    "    df -- (dataframe), vara and corresponding proportion / avg value\n",
    "    \"\"\"\n",
    "    \n",
    "    # check if categorical variable, if so then display proportions\n",
    "    if vara in [c[0] for c in df_fe.dtypes if c[1] == 'string']:\n",
    "        df = spark.sql(\"select {}, churn_user_target, count(*) as {}_cnt, \\\n",
    "                   round(count(*)/CAST( SUM(count(*)) over (partition by churn_user_target) as float), 2) as {}_pctg\\\n",
    "                   from mini_fe group by {}, churn_user_target \\\n",
    "                   order by  churn_user_target, {}\".format(vara,vara,vara,vara,vara))\n",
    "    # if is date then skip    \n",
    "    elif vara in [c[0] for c in df_fe.dtypes if c[1] == 'date']:\n",
    "        print('Input variable is date.')\n",
    "        \n",
    "    # if continous type like int, big int, float then display average between two groups\n",
    "    else: \n",
    "        df = spark.sql(\"select churn_user_target, round(avg({}),2) as avg_{}_mthly\\\n",
    "                   from mini_fe group by churn_user_target\".format(vara, vara))\n",
    "        \n",
    "    return df"
   ]
  },
  {
   "cell_type": "code",
   "execution_count": 62,
   "metadata": {
    "ExecuteTime": {
     "end_time": "2019-05-28T04:57:15.270235Z",
     "start_time": "2019-05-28T04:57:00.941225Z"
    }
   },
   "outputs": [
    {
     "name": "stdout",
     "output_type": "stream",
     "text": [
      "+-----------------+-----------------------+\n",
      "|churn_user_target|avg_ttl_paid2free_mthly|\n",
      "+-----------------+-----------------------+\n",
      "|                1|                   0.45|\n",
      "|                0|                   0.66|\n",
      "+-----------------+-----------------------+\n",
      "\n"
     ]
    }
   ],
   "source": [
    "cunt_bychurn_vara('ttl_paid2free').show()"
   ]
  },
  {
   "cell_type": "code",
   "execution_count": 63,
   "metadata": {
    "ExecuteTime": {
     "end_time": "2019-05-28T04:57:33.809970Z",
     "start_time": "2019-05-28T04:57:21.527736Z"
    }
   },
   "outputs": [
    {
     "name": "stdout",
     "output_type": "stream",
     "text": [
      "+-----------------+---------------------+\n",
      "|churn_user_target|avg_always_free_mthly|\n",
      "+-----------------+---------------------+\n",
      "|                1|                 0.23|\n",
      "|                0|                 0.36|\n",
      "+-----------------+---------------------+\n",
      "\n"
     ]
    }
   ],
   "source": [
    "cunt_bychurn_vara('always_free').show()"
   ]
  },
  {
   "cell_type": "code",
   "execution_count": 64,
   "metadata": {
    "ExecuteTime": {
     "end_time": "2019-05-28T04:57:49.355075Z",
     "start_time": "2019-05-28T04:57:37.292015Z"
    }
   },
   "outputs": [
    {
     "name": "stdout",
     "output_type": "stream",
     "text": [
      "+-----------------+-----------------------+\n",
      "|churn_user_target|avg_ttl_free2paid_mthly|\n",
      "+-----------------+-----------------------+\n",
      "|                1|                   0.77|\n",
      "|                0|                    0.6|\n",
      "+-----------------+-----------------------+\n",
      "\n"
     ]
    }
   ],
   "source": [
    "cunt_bychurn_vara('ttl_free2paid').show()"
   ]
  },
  {
   "cell_type": "code",
   "execution_count": 65,
   "metadata": {
    "ExecuteTime": {
     "end_time": "2019-05-28T04:58:19.088490Z",
     "start_time": "2019-05-28T04:58:06.180621Z"
    }
   },
   "outputs": [
    {
     "name": "stdout",
     "output_type": "stream",
     "text": [
      "+-----------------+---------------------+\n",
      "|churn_user_target|avg_always_paid_mthly|\n",
      "+-----------------+---------------------+\n",
      "|                1|                 0.09|\n",
      "|                0|                 0.18|\n",
      "+-----------------+---------------------+\n",
      "\n"
     ]
    }
   ],
   "source": [
    "cunt_bychurn_vara('always_paid').show()"
   ]
  },
  {
   "cell_type": "code",
   "execution_count": 67,
   "metadata": {
    "ExecuteTime": {
     "end_time": "2019-05-28T04:58:47.670239Z",
     "start_time": "2019-05-28T04:58:35.175728Z"
    }
   },
   "outputs": [
    {
     "name": "stdout",
     "output_type": "stream",
     "text": [
      "+------+-----------------+----------+-----------+\n",
      "|gender|churn_user_target|gender_cnt|gender_pctg|\n",
      "+------+-----------------+----------+-----------+\n",
      "|     F|                0|        77|       0.48|\n",
      "|     M|                0|        83|       0.52|\n",
      "|     F|                1|        11|        0.5|\n",
      "|     M|                1|        11|        0.5|\n",
      "+------+-----------------+----------+-----------+\n",
      "\n"
     ]
    }
   ],
   "source": [
    "cunt_bychurn_vara('gender').show()"
   ]
  },
  {
   "cell_type": "code",
   "execution_count": 66,
   "metadata": {
    "ExecuteTime": {
     "end_time": "2019-05-28T04:58:32.232539Z",
     "start_time": "2019-05-28T04:58:19.244274Z"
    }
   },
   "outputs": [
    {
     "name": "stdout",
     "output_type": "stream",
     "text": [
      "+-----------------+---------------------+\n",
      "|churn_user_target|avg_Thumbs_Down_mthly|\n",
      "+-----------------+---------------------+\n",
      "|                1|                10.82|\n",
      "|                0|                 5.98|\n",
      "+-----------------+---------------------+\n",
      "\n"
     ]
    }
   ],
   "source": [
    "cunt_bychurn_vara(\"Thumbs_Down\").show()"
   ]
  },
  {
   "cell_type": "code",
   "execution_count": 68,
   "metadata": {
    "ExecuteTime": {
     "end_time": "2019-05-28T04:59:41.586836Z",
     "start_time": "2019-05-28T04:59:27.036849Z"
    }
   },
   "outputs": [
    {
     "name": "stdout",
     "output_type": "stream",
     "text": [
      "+-----------------+------------------+\n",
      "|churn_user_target|avg_ttl_song_mthly|\n",
      "+-----------------+------------------+\n",
      "|                1|            722.41|\n",
      "|                0|            543.86|\n",
      "+-----------------+------------------+\n",
      "\n"
     ]
    }
   ],
   "source": [
    "cunt_bychurn_vara(\"ttl_song\").show()"
   ]
  },
  {
   "cell_type": "code",
   "execution_count": 69,
   "metadata": {
    "ExecuteTime": {
     "end_time": "2019-05-28T05:00:46.335855Z",
     "start_time": "2019-05-28T05:00:46.276274Z"
    }
   },
   "outputs": [
    {
     "data": {
      "text/plain": [
       "5539"
      ]
     },
     "execution_count": 69,
     "metadata": {},
     "output_type": "execute_result"
    }
   ],
   "source": [
    "gc.collect()"
   ]
  },
  {
   "cell_type": "markdown",
   "metadata": {},
   "source": [
    "5. Plot variable distribution between churn/stay groups"
   ]
  },
  {
   "cell_type": "code",
   "execution_count": 70,
   "metadata": {
    "ExecuteTime": {
     "end_time": "2019-05-28T05:01:02.048835Z",
     "start_time": "2019-05-28T05:01:02.031198Z"
    }
   },
   "outputs": [],
   "source": [
    "# Explore difference between churn/stay user\n",
    "# https://stackoverflow.com/questions/1823599/calculating-percentage-within-a-group\n",
    "\n",
    "# add if categorical / continous\n",
    "def plot_churn_vara(vara):\n",
    "    \"\"\" Show variable's unique count, and proportion by vara and churn/stay.\n",
    "    INPUT:\n",
    "    vara: -- (string), variable need to be counted.\n",
    "    OUTPUT:\n",
    "    plot corresponding proportion / avg value by churn/stay\n",
    "    \"\"\"\n",
    "    \n",
    "    # convert spark df to pandas\n",
    "    df_fe_pd = df_fe.toPandas()\n",
    "    \n",
    "    # check if categorical variable, if so then display proportions\n",
    "    if vara in [c[0] for c in df_fe.dtypes if c[1] == 'string']:\n",
    "        df_fe_pd.groupby(['churn_user_target',vara])['userId'].count().plot(kind = 'bar', color = 'g')\n",
    "        plt.ylabel('{}_count'.format(vara))\n",
    "        plt.show()    \n",
    "        \n",
    "    # if is date then skip    \n",
    "    elif vara in [c[0] for c in df_fe.dtypes if c[1] == 'date']:\n",
    "        print('Input variable is date.')\n",
    "        \n",
    "    # if continous type like int, big int, float then display average between two groups\n",
    "    else: \n",
    "        df_fe_pd.groupby(['churn_user_target'])[vara].mean().plot(kind = 'bar')\n",
    "        plt.ylabel('monthly_avg_{}'.format(vara))\n",
    "        plt.show()"
   ]
  },
  {
   "cell_type": "code",
   "execution_count": 71,
   "metadata": {
    "ExecuteTime": {
     "end_time": "2019-05-28T05:01:25.242556Z",
     "start_time": "2019-05-28T05:01:07.628982Z"
    }
   },
   "outputs": [
    {
     "data": {
      "image/png": "[encoded data removed]",
      "text/plain": [
       "<Figure size 432x288 with 1 Axes>"
      ]
     },
     "metadata": {
      "needs_background": "light"
     },
     "output_type": "display_data"
    }
   ],
   "source": [
    "plot_churn_vara('gender')"
   ]
  },
  {
   "cell_type": "code",
   "execution_count": 72,
   "metadata": {
    "ExecuteTime": {
     "end_time": "2019-05-28T05:01:33.473728Z",
     "start_time": "2019-05-28T05:01:32.358601Z"
    }
   },
   "outputs": [
    {
     "data": {
      "image/png": "[encoded data removed]",
      "text/plain": [
       "<Figure size 432x288 with 1 Axes>"
      ]
     },
     "metadata": {
      "needs_background": "light"
     },
     "output_type": "display_data"
    }
   ],
   "source": [
    "plot_churn_vara('opr_system')"
   ]
  },
  {
   "cell_type": "code",
   "execution_count": 73,
   "metadata": {
    "ExecuteTime": {
     "end_time": "2019-05-28T05:01:41.610913Z",
     "start_time": "2019-05-28T05:01:40.476341Z"
    }
   },
   "outputs": [
    {
     "data": {
      "image/png": "[encoded data removed]",
      "text/plain": [
       "<Figure size 432x288 with 1 Axes>"
      ]
     },
     "metadata": {
      "needs_background": "light"
     },
     "output_type": "display_data"
    }
   ],
   "source": [
    "plot_churn_vara('Help')"
   ]
  },
  {
   "cell_type": "code",
   "execution_count": 74,
   "metadata": {
    "ExecuteTime": {
     "end_time": "2019-05-28T05:01:49.452779Z",
     "start_time": "2019-05-28T05:01:48.220864Z"
    }
   },
   "outputs": [
    {
     "data": {
      "image/png": "[encoded data removed]",
      "text/plain": [
       "<Figure size 432x288 with 1 Axes>"
      ]
     },
     "metadata": {
      "needs_background": "light"
     },
     "output_type": "display_data"
    }
   ],
   "source": [
    "plot_churn_vara('Add_Friend')"
   ]
  },
  {
   "cell_type": "code",
   "execution_count": 75,
   "metadata": {
    "ExecuteTime": {
     "end_time": "2019-05-28T05:04:57.896844Z",
     "start_time": "2019-05-28T05:04:56.794766Z"
    }
   },
   "outputs": [
    {
     "data": {
      "image/png": "[encoded data removed]",
      "text/plain": [
       "<Figure size 432x288 with 1 Axes>"
      ]
     },
     "metadata": {
      "needs_background": "light"
     },
     "output_type": "display_data"
    }
   ],
   "source": [
    "plot_churn_vara('ttl_paid2free')"
   ]
  },
  {
   "cell_type": "code",
   "execution_count": 76,
   "metadata": {
    "ExecuteTime": {
     "end_time": "2019-05-28T05:05:02.692577Z",
     "start_time": "2019-05-28T05:05:01.597145Z"
    }
   },
   "outputs": [
    {
     "data": {
      "image/png": "[encoded data removed]",
      "text/plain": [
       "<Figure size 432x288 with 1 Axes>"
      ]
     },
     "metadata": {
      "needs_background": "light"
     },
     "output_type": "display_data"
    }
   ],
   "source": [
    "plot_churn_vara('ttl_free2paid')"
   ]
  },
  {
   "cell_type": "code",
   "execution_count": 77,
   "metadata": {
    "ExecuteTime": {
     "end_time": "2019-05-28T05:05:17.489778Z",
     "start_time": "2019-05-28T05:05:16.286383Z"
    }
   },
   "outputs": [
    {
     "data": {
      "image/png": "[encoded data removed]",
      "text/plain": [
       "<Figure size 432x288 with 1 Axes>"
      ]
     },
     "metadata": {
      "needs_background": "light"
     },
     "output_type": "display_data"
    }
   ],
   "source": [
    "plot_churn_vara('always_paid')"
   ]
  },
  {
   "cell_type": "code",
   "execution_count": 78,
   "metadata": {
    "ExecuteTime": {
     "end_time": "2019-05-28T05:05:26.478465Z",
     "start_time": "2019-05-28T05:05:25.406979Z"
    }
   },
   "outputs": [
    {
     "data": {
      "image/png": "[encoded data removed]",
      "text/plain": [
       "<Figure size 432x288 with 1 Axes>"
      ]
     },
     "metadata": {
      "needs_background": "light"
     },
     "output_type": "display_data"
    }
   ],
   "source": [
    "plot_churn_vara('ttl_song')"
   ]
  },
  {
   "cell_type": "code",
   "execution_count": 79,
   "metadata": {
    "ExecuteTime": {
     "end_time": "2019-05-28T05:05:35.680053Z",
     "start_time": "2019-05-28T05:05:34.663037Z"
    }
   },
   "outputs": [
    {
     "data": {
      "image/png": "[encoded data removed]",
      "text/plain": [
       "<Figure size 432x288 with 1 Axes>"
      ]
     },
     "metadata": {
      "needs_background": "light"
     },
     "output_type": "display_data"
    }
   ],
   "source": [
    "plot_churn_vara('Thumbs_Down')"
   ]
  },
  {
   "cell_type": "code",
   "execution_count": 80,
   "metadata": {
    "ExecuteTime": {
     "end_time": "2019-05-28T05:05:42.115646Z",
     "start_time": "2019-05-28T05:05:41.073253Z"
    }
   },
   "outputs": [
    {
     "data": {
      "image/png": "[encoded data removed]",
      "text/plain": [
       "<Figure size 432x288 with 1 Axes>"
      ]
     },
     "metadata": {
      "needs_background": "light"
     },
     "output_type": "display_data"
    }
   ],
   "source": [
    "plot_churn_vara('Downgrade')"
   ]
  },
  {
   "cell_type": "code",
   "execution_count": 81,
   "metadata": {
    "ExecuteTime": {
     "end_time": "2019-05-28T05:05:48.644652Z",
     "start_time": "2019-05-28T05:05:47.461537Z"
    }
   },
   "outputs": [
    {
     "data": {
      "image/png": "[encoded data removed]",
      "text/plain": [
       "<Figure size 432x288 with 1 Axes>"
      ]
     },
     "metadata": {
      "needs_background": "light"
     },
     "output_type": "display_data"
    }
   ],
   "source": [
    "plot_churn_vara('Error')"
   ]
  },
  {
   "cell_type": "markdown",
   "metadata": {},
   "source": [
    "## Feature Engineering\n",
    "Now we get cleaned user-feature dataset with each row represents an unique user and each feature shows their demographics or aggregation activities of last month. But before fitting into machine learning model, we need to do final data processing. We need to convert categorical features into dummy values and scale continuous features.\n",
    "\n",
    "### Categorical Features\n",
    "\n",
    "First, we need to use StringIndexer to index categorical values. Then we will use OneHotEncoder to convert the indexer into dummy vectors.\n",
    "\n",
    "### Continuous Features \n",
    "Scale the numerical data before fitting into machine learning models. StandardScaler will be applied"
   ]
  },
  {
   "cell_type": "code",
   "execution_count": 82,
   "metadata": {
    "ExecuteTime": {
     "end_time": "2019-05-28T05:06:25.430864Z",
     "start_time": "2019-05-28T05:06:25.415779Z"
    }
   },
   "outputs": [
    {
     "data": {
      "text/plain": [
       "[('userId', 'string'),\n",
       " ('gender', 'string'),\n",
       " ('churn_user_target', 'int'),\n",
       " ('state', 'string'),\n",
       " ('opr_system', 'string'),\n",
       " ('ttl_song', 'bigint'),\n",
       " ('About', 'bigint'),\n",
       " ('Add_Friend', 'bigint'),\n",
       " ('Add_to_Playlist', 'bigint'),\n",
       " ('Downgrade', 'bigint'),\n",
       " ('Error', 'bigint'),\n",
       " ('Help', 'bigint'),\n",
       " ('Home', 'bigint'),\n",
       " ('Logout', 'bigint'),\n",
       " ('NextSong', 'bigint'),\n",
       " ('Roll_Advert', 'bigint'),\n",
       " ('Save_Settings', 'bigint'),\n",
       " ('Settings', 'bigint'),\n",
       " ('Submit_Downgrade', 'bigint'),\n",
       " ('Submit_Upgrade', 'bigint'),\n",
       " ('Thumbs_Down', 'bigint'),\n",
       " ('Thumbs_Up', 'bigint'),\n",
       " ('Upgrade', 'bigint'),\n",
       " ('avg_song_length', 'double'),\n",
       " ('ttl_paid2free', 'bigint'),\n",
       " ('ttl_free2paid', 'bigint'),\n",
       " ('always_paid', 'int'),\n",
       " ('always_free', 'int')]"
      ]
     },
     "execution_count": 82,
     "metadata": {},
     "output_type": "execute_result"
    }
   ],
   "source": [
    "df_fe.dtypes"
   ]
  },
  {
   "cell_type": "code",
   "execution_count": 83,
   "metadata": {
    "ExecuteTime": {
     "end_time": "2019-05-28T05:06:33.227996Z",
     "start_time": "2019-05-28T05:06:33.182252Z"
    }
   },
   "outputs": [],
   "source": [
    "### Dealing with Categorical Variables\n",
    "# https://docs.databricks.com/spark/latest/mllib/binary-classification-mllib-pipelines.html\n",
    "\n",
    "# collect categorical variables\n",
    "cate_cols = [c[0] for c in df_fe.dtypes if (c[1] == 'string' and c[0] not in ['userId','state'])]\n",
    "\n",
    "# pipeline stages\n",
    "stages = []\n",
    "\n",
    "for cat in cate_cols:\n",
    "    # Indexing on categorical variables\n",
    "    string_indexer = StringIndexer(inputCol = cat, outputCol = cat + \"Index\")\n",
    "    \n",
    "    # OneHotEncoding on categorical variables to dummy vectors\n",
    "    dum_encoder = OneHotEncoder(inputCol = string_indexer.getOutputCol(), outputCol = cat + \"classVec\")\n",
    "    \n",
    "    stages += [string_indexer, dum_encoder]"
   ]
  },
  {
   "cell_type": "code",
   "execution_count": 84,
   "metadata": {
    "ExecuteTime": {
     "end_time": "2019-05-28T05:06:41.139365Z",
     "start_time": "2019-05-28T05:06:41.112219Z"
    }
   },
   "outputs": [],
   "source": [
    "### Dealing with numerical variables\n",
    "# https://blog.usejournal.com/tutorial-on-pyspark-transformations-and-mlib-7ed289a9e843\n",
    "\n",
    "# collect continous variable\n",
    "conti_cols = [c[0] for c in df_fe.dtypes if c[1] in ('int','bigint','double') and c[0] != 'churn_user_target']\n",
    "\n",
    "# assemble continous variables\n",
    "conti_assemb = VectorAssembler(inputCols = conti_cols, outputCol = \"conti_varas_vec\")\n",
    "cat_scaler = StandardScaler(inputCol = \"conti_varas_vec\", outputCol = \"conti_scaled_feats\")\n",
    "stages += [conti_assemb, cat_scaler]"
   ]
  },
  {
   "cell_type": "code",
   "execution_count": 85,
   "metadata": {
    "ExecuteTime": {
     "end_time": "2019-05-28T05:06:48.341003Z",
     "start_time": "2019-05-28T05:06:48.326728Z"
    }
   },
   "outputs": [],
   "source": [
    "# conver target variable into label indices\n",
    "label_strIdx = StringIndexer(inputCol = \"churn_user_target\", outputCol = \"label\")\n",
    "stages += [label_strIdx]"
   ]
  },
  {
   "cell_type": "code",
   "execution_count": 86,
   "metadata": {
    "ExecuteTime": {
     "end_time": "2019-05-28T05:06:56.234087Z",
     "start_time": "2019-05-28T05:06:56.214042Z"
    }
   },
   "outputs": [],
   "source": [
    "# Assemble vectors together\n",
    "assembler_varas = [c + \"Index\" for c in cate_cols] + [\"conti_scaled_feats\"]\n",
    "# Apply vectorAssembler\n",
    "assembler = VectorAssembler(inputCols = assembler_varas, outputCol = \"features\")\n",
    "stages += [assembler]"
   ]
  },
  {
   "cell_type": "code",
   "execution_count": 88,
   "metadata": {
    "ExecuteTime": {
     "end_time": "2019-05-28T05:07:07.985044Z",
     "start_time": "2019-05-28T05:07:07.970923Z"
    }
   },
   "outputs": [],
   "source": [
    "# ML Prediction Model\n",
    "model = RandomForestClassifier(featuresCol = \"features\", labelCol = \"label\", numTrees = 10)# LogisticRegression(featuresCol = \"features\", labelCol = \"label\")#\n",
    "stages += [model]"
   ]
  },
  {
   "cell_type": "code",
   "execution_count": 89,
   "metadata": {
    "ExecuteTime": {
     "end_time": "2019-05-28T05:13:07.682943Z",
     "start_time": "2019-05-28T05:13:07.678535Z"
    }
   },
   "outputs": [],
   "source": [
    "# Compile pipeline\n",
    "pipeline = Pipeline().setStages(stages)"
   ]
  },
  {
   "cell_type": "code",
   "execution_count": 90,
   "metadata": {
    "ExecuteTime": {
     "end_time": "2019-05-28T05:13:31.150310Z",
     "start_time": "2019-05-28T05:13:31.132575Z"
    }
   },
   "outputs": [],
   "source": [
    "# For next part using convenience, Let's create a pipeline function\n",
    "\n",
    "def ml_pipeline(df, model):\n",
    "    \"\"\"Build feature vector processing and ML pipeline for prediction ready.\n",
    "    INPUT:\n",
    "    df -- (dataframe): Dataframe with users as rows and features as columns.\n",
    "    model : machine learning alogrithm.\n",
    "    OUTPUT:\n",
    "    pipeline -- (Pipeline): Feature processing and ML pipeline\n",
    "    \"\"\"\n",
    "    \n",
    "    ### Dealing with Categorical Variables\n",
    "    # collect categorical variables\n",
    "    cate_cols = [c[0] for c in df.dtypes if (c[1] == 'string' and c[0] not in ['userId','state'])]\n",
    "    # pipeline stages\n",
    "    stages = []\n",
    "\n",
    "    for cat in cate_cols:\n",
    "        # Indexing on categorical variables\n",
    "        string_indexer = StringIndexer(inputCol = cat, outputCol = cat + \"Index\")\n",
    "        # OneHotEncoding on categorical variables to dummy vectors\n",
    "        dum_encoder = OneHotEncoder(inputCol = string_indexer.getOutputCol(), outputCol = cat + \"classVec\")\n",
    "        # update stage\n",
    "        stages += [string_indexer, dum_encoder]\n",
    "\n",
    "    ### Dealing with numerical variables\n",
    "    # collect continous variable\n",
    "    conti_cols = [c[0] for c in df.dtypes if c[1] in ('int','bigint','double') and c[0] != 'churn_user_target']\n",
    "    # assemble continous variables\n",
    "    conti_assemb = VectorAssembler(inputCols = conti_cols, outputCol = \"conti_varas_vec\")\n",
    "    # scale continous variables\n",
    "    cat_scaler = StandardScaler(inputCol = \"conti_varas_vec\", outputCol = \"conti_scaled_feats\")\n",
    "    # update satage\n",
    "    stages += [conti_assemb, cat_scaler]\n",
    "    \n",
    "    \n",
    "    ### conver target variable into label indices\n",
    "    label_strIdx = StringIndexer(inputCol = \"churn_user_target\", outputCol = \"label\")\n",
    "    # update stage\n",
    "    stages += [label_strIdx]\n",
    "    \n",
    "    # Assemble vectors together\n",
    "    assembler_varas = [c + \"Index\" for c in cate_cols] + [\"conti_scaled_feats\"]\n",
    "    # Apply vectorAssembler\n",
    "    assembler = VectorAssembler(inputCols = assembler_varas, outputCol = \"features\")\n",
    "    # Update stage\n",
    "    stages += [assembler]\n",
    "    \n",
    "    ### ML model\n",
    "    ml_model  = model\n",
    "    stages += [ml_model]\n",
    "    \n",
    "    ### Compile pipeline\n",
    "    pipeline = Pipeline().setStages(stages)\n",
    "\n",
    "    return pipeline"
   ]
  },
  {
   "cell_type": "markdown",
   "metadata": {},
   "source": [
    "# Modeling\n",
    "\n",
    "1. Initialize the model will be used in the model building.\n",
    "2. Call pipeline by feeding feature engineered dataset and model.\n",
    "3. Split train test dataset.\n",
    "4. Set paramGrid search candidates and use TrainValidationSplit to split trani and validation set to evaluate model.\n",
    "5. Extract the best model from the parameter search from last step and do prediction on the test set.\n",
    "6. Also use F1 metric to evaluate predicted performance.\n",
    "7. Try Random Forest and LogisticRegression."
   ]
  },
  {
   "cell_type": "markdown",
   "metadata": {},
   "source": [
    "- First, I will use simple way to build the model. Only split dataset into train and test, then select Random Forest as the initial model. AUC as the measure method."
   ]
  },
  {
   "cell_type": "code",
   "execution_count": 91,
   "metadata": {
    "ExecuteTime": {
     "end_time": "2019-05-28T06:57:12.564577Z",
     "start_time": "2019-05-28T06:57:12.522005Z"
    }
   },
   "outputs": [],
   "source": [
    "rf = RandomForestClassifier(featuresCol = \"features\", labelCol = \"label\")\n",
    "pipeline = ml_pipeline(df_fe, rf)"
   ]
  },
  {
   "cell_type": "code",
   "execution_count": 98,
   "metadata": {
    "ExecuteTime": {
     "end_time": "2019-05-28T06:59:06.349337Z",
     "start_time": "2019-05-28T06:59:06.323355Z"
    }
   },
   "outputs": [],
   "source": [
    "# split train test\n",
    "\n",
    "train, test = df_fe.randomSplit([0.8, 0.2], seed = 41) "
   ]
  },
  {
   "cell_type": "code",
   "execution_count": 99,
   "metadata": {
    "ExecuteTime": {
     "end_time": "2019-05-28T07:02:00.835961Z",
     "start_time": "2019-05-28T07:00:01.977042Z"
    }
   },
   "outputs": [],
   "source": [
    "# fit the mdoel on training dataset\n",
    "rf_model = pipeline.fit(train)"
   ]
  },
  {
   "cell_type": "code",
   "execution_count": 100,
   "metadata": {
    "ExecuteTime": {
     "end_time": "2019-05-28T07:03:15.109544Z",
     "start_time": "2019-05-28T07:02:56.914810Z"
    }
   },
   "outputs": [],
   "source": [
    "# predict\n",
    "\n",
    "result = rf_model.transform(test)"
   ]
  },
  {
   "cell_type": "code",
   "execution_count": 101,
   "metadata": {
    "ExecuteTime": {
     "end_time": "2019-05-28T07:04:28.482948Z",
     "start_time": "2019-05-28T07:04:11.105254Z"
    }
   },
   "outputs": [
    {
     "data": {
      "text/plain": [
       "0.736842105263158"
      ]
     },
     "execution_count": 101,
     "metadata": {},
     "output_type": "execute_result"
    }
   ],
   "source": [
    "# Evaluate model using AUC score\n",
    "\n",
    "evaluator = BinaryClassificationEvaluator()\n",
    "evaluator.evaluate(result)"
   ]
  },
  {
   "cell_type": "markdown",
   "metadata": {},
   "source": [
    "***Thoughts*** The prediction is not bad, but let's do some improvement to split dataset into train - validate - test. Use train and validate dataset to train and tuning model. Then apply best model on test dataset.\n",
    "\n",
    "In order to implement all the steps easier, I will compile them into function for future convenience."
   ]
  },
  {
   "cell_type": "code",
   "execution_count": 102,
   "metadata": {
    "ExecuteTime": {
     "end_time": "2019-05-28T07:05:01.440834Z",
     "start_time": "2019-05-28T07:05:01.427267Z"
    }
   },
   "outputs": [],
   "source": [
    "def model_contruct(df, model, paramGrid, evaluator, random_state):\n",
    "    \"\"\"Split train, test dataset. Grid Search best model by using TrainValidationSplit and do prediction on test set.   \n",
    "    INPUT:\n",
    "    df -- (dataframe): Dataframe with users as rows and features as columns.\n",
    "    model : machine learning alogrithm.\n",
    "    paramGrid: parameters for grid search.\n",
    "    evaluator : The evaluation method.\n",
    "    random_state: the seed number set for random state\n",
    "    OUTPUT:\n",
    "    evaluator_val: model performance on validation dataset.\n",
    "    evaluator_test: model performance on test dataset.\n",
    "    \"\"\"\n",
    "    # build data process ml pipeline \n",
    "    pipeline = ml_pipeline(df, model)\n",
    "    \n",
    "    # split train test \n",
    "    train, test = df.randomSplit([0.8, 0.2], seed = random_state)\n",
    "    \n",
    "    # split train-validation for finding the best param \n",
    "    train_val_model = TrainValidationSplit(estimator = pipeline,\n",
    "                               estimatorParamMaps = paramGrid,\n",
    "                               evaluator = evaluator,\n",
    "                               trainRatio = 0.7)\n",
    "    \n",
    "    # train model\n",
    "    ml_model = train_val_model.fit(train)\n",
    "    \n",
    "    # get each parameter setting's evaluation result list\n",
    "    evaluator_val = ml_model.validationMetrics\n",
    "    \n",
    "    # extract best model\n",
    "    ml_model_best = ml_model.bestModel\n",
    "    \n",
    "    # test result\n",
    "    result = ml_model_best.transform(test)\n",
    "    \n",
    "    # set evaluator\n",
    "    evaluator = evaluator\n",
    "    \n",
    "    # get evaluation result\n",
    "    evaluator_test = evaluator.evaluate(result)\n",
    "    \n",
    "    return evaluator_val, evaluator_test"
   ]
  },
  {
   "cell_type": "code",
   "execution_count": 104,
   "metadata": {
    "ExecuteTime": {
     "end_time": "2019-05-28T07:06:07.590241Z",
     "start_time": "2019-05-28T07:06:07.574738Z"
    }
   },
   "outputs": [],
   "source": [
    "# try ramdon Forest\n",
    "\n",
    "rf = RandomForestClassifier(featuresCol='features', labelCol='label')"
   ]
  },
  {
   "cell_type": "code",
   "execution_count": 105,
   "metadata": {
    "ExecuteTime": {
     "end_time": "2019-05-28T07:11:20.354738Z",
     "start_time": "2019-05-28T07:07:46.320455Z"
    }
   },
   "outputs": [],
   "source": [
    "paramGrid = ParamGridBuilder().addGrid(rf.numTrees, [10, 20]).build()\n",
    "rf_val_result, rf_test_result = model_contruct(df_fe, rf, paramGrid, BinaryClassificationEvaluator(), 41)"
   ]
  },
  {
   "cell_type": "code",
   "execution_count": 106,
   "metadata": {
    "ExecuteTime": {
     "end_time": "2019-05-28T07:11:56.870208Z",
     "start_time": "2019-05-28T07:11:56.860645Z"
    }
   },
   "outputs": [
    {
     "data": {
      "text/plain": [
       "[0.4966777408637874, 0.5116279069767442]"
      ]
     },
     "execution_count": 106,
     "metadata": {},
     "output_type": "execute_result"
    }
   ],
   "source": [
    "rf_val_result"
   ]
  },
  {
   "cell_type": "code",
   "execution_count": 107,
   "metadata": {
    "ExecuteTime": {
     "end_time": "2019-05-28T07:12:03.571341Z",
     "start_time": "2019-05-28T07:12:03.562921Z"
    }
   },
   "outputs": [
    {
     "data": {
      "text/plain": [
       "0.736842105263158"
      ]
     },
     "execution_count": 107,
     "metadata": {},
     "output_type": "execute_result"
    }
   ],
   "source": [
    "rf_test_result"
   ]
  },
  {
   "cell_type": "markdown",
   "metadata": {},
   "source": [
    "Evaluate on F1 score with Logistic Regression"
   ]
  },
  {
   "cell_type": "code",
   "execution_count": 108,
   "metadata": {
    "ExecuteTime": {
     "end_time": "2019-05-28T07:19:14.061548Z",
     "start_time": "2019-05-28T07:15:19.170308Z"
    }
   },
   "outputs": [],
   "source": [
    "# Let's use Logistic Regression  \n",
    "lr = LogisticRegression(featuresCol = \"features\", labelCol = \"label\")\n",
    "\n",
    "\n",
    "paramGrid = ParamGridBuilder() \\\n",
    "        .addGrid(lr.maxIter, [10, 20]) \\\n",
    "        .build()\n",
    "\n",
    "lr_val_result, lr_test_result = model_contruct(df_fe, lr, paramGrid, MulticlassClassificationEvaluator(\n",
    "    labelCol=\"label\", predictionCol=\"prediction\", metricName=\"f1\"), 41)"
   ]
  },
  {
   "cell_type": "code",
   "execution_count": 109,
   "metadata": {
    "ExecuteTime": {
     "end_time": "2019-05-28T07:19:53.074497Z",
     "start_time": "2019-05-28T07:19:53.065327Z"
    }
   },
   "outputs": [
    {
     "data": {
      "text/plain": [
       "0.9129870129870131"
      ]
     },
     "execution_count": 109,
     "metadata": {},
     "output_type": "execute_result"
    }
   ],
   "source": [
    "lr_test_result"
   ]
  },
  {
   "cell_type": "markdown",
   "metadata": {},
   "source": [
    "## Compare Inital Solutions and Current Solutions\n",
    "\n",
    "- At very first, we simply split dataset into train and test and the default parameter of Random Forest was used without parameter tuning. We got test AUC score about 0.75, which is not bad.\n",
    "- Then, TrainValidationSplit was introduced and evaluate model upon validation performance. Combined with parameter tuning, the refined model were created. And apply this methond with Logisitc Regression we got AUC score on test set was about 0.83, which was better than the initial step.\n",
    "- Also, F1 score evaluator was applied on the same method and still logistic regression. We got f1 score on test set about 0.91, which is pretty good.\n",
    "\n",
    "\n",
    "## Next Step: \n",
    "Even though we got pretty good testing result, model's scalability is in dout since the limited size of user records. Cross-validation can't been implemented here due to the computation issue. I tried several times, but both failed. In the following, I gonna set a few different random state and run multiple time to see how the evaluation results vary between different random states.\n",
    "\n",
    "- Note: I supposed to run the following 5 random states in a for loop by change seed number. However, it was always been broken due to computation issue. So I will run one by one in the following."
   ]
  },
  {
   "cell_type": "code",
   "execution_count": 110,
   "metadata": {
    "ExecuteTime": {
     "end_time": "2019-05-28T07:25:30.565560Z",
     "start_time": "2019-05-28T07:21:40.035207Z"
    }
   },
   "outputs": [],
   "source": [
    "# Let's use Logistic Regression \n",
    "lr = LogisticRegression(featuresCol = \"features\", labelCol = \"label\")\n",
    "\n",
    "paramGrid = ParamGridBuilder() \\\n",
    "        .addGrid(lr.maxIter, [10, 20]) \\\n",
    "        .build()\n",
    "\n",
    "lr_val_result1, lr_test_result1 = model_contruct(df_fe, lr, paramGrid, BinaryClassificationEvaluator(), 41)"
   ]
  },
  {
   "cell_type": "code",
   "execution_count": 111,
   "metadata": {
    "ExecuteTime": {
     "end_time": "2019-05-28T07:25:56.116006Z",
     "start_time": "2019-05-28T07:25:56.105589Z"
    }
   },
   "outputs": [
    {
     "data": {
      "text/plain": [
       "0.7763157894736843"
      ]
     },
     "execution_count": 111,
     "metadata": {},
     "output_type": "execute_result"
    }
   ],
   "source": [
    "lr_test_result1"
   ]
  },
  {
   "cell_type": "code",
   "execution_count": 112,
   "metadata": {
    "ExecuteTime": {
     "end_time": "2019-05-28T07:30:02.440036Z",
     "start_time": "2019-05-28T07:26:03.585442Z"
    }
   },
   "outputs": [
    {
     "data": {
      "text/plain": [
       "0.6923076923076923"
      ]
     },
     "execution_count": 112,
     "metadata": {},
     "output_type": "execute_result"
    }
   ],
   "source": [
    "\n",
    "# 2nd with seed 42\n",
    "\n",
    "lr = LogisticRegression(featuresCol = \"features\", labelCol = \"label\")\n",
    "\n",
    "paramGrid = ParamGridBuilder() \\\n",
    "        .addGrid(lr.maxIter, [10, 20]) \\\n",
    "        .build()\n",
    "\n",
    "lr_val_result2, lr_test_result2 = model_contruct(df_fe, lr, paramGrid, BinaryClassificationEvaluator(), 42)\n",
    "\n",
    "gc.collect()\n",
    "lr_test_result2"
   ]
  },
  {
   "cell_type": "code",
   "execution_count": 114,
   "metadata": {
    "ExecuteTime": {
     "end_time": "2019-05-28T07:30:10.901266Z",
     "start_time": "2019-05-28T07:30:10.763803Z"
    }
   },
   "outputs": [
    {
     "data": {
      "text/plain": [
       "24"
      ]
     },
     "execution_count": 114,
     "metadata": {},
     "output_type": "execute_result"
    }
   ],
   "source": [
    "gc.collect()"
   ]
  },
  {
   "cell_type": "code",
   "execution_count": 115,
   "metadata": {
    "ExecuteTime": {
     "end_time": "2019-05-28T07:34:07.133799Z",
     "start_time": "2019-05-28T07:30:15.685501Z"
    }
   },
   "outputs": [
    {
     "data": {
      "text/plain": [
       "0.48660714285714274"
      ]
     },
     "execution_count": 115,
     "metadata": {},
     "output_type": "execute_result"
    }
   ],
   "source": [
    "\n",
    "# 3th with seed 40\n",
    "\n",
    "lr = LogisticRegression(featuresCol = \"features\", labelCol = \"label\")\n",
    "\n",
    "paramGrid = ParamGridBuilder() \\\n",
    "        .addGrid(lr.maxIter, [10, 20]) \\\n",
    "        .build()\n",
    "\n",
    "lr_val_result3, lr_test_result3 = model_contruct(df_fe, lr, paramGrid, BinaryClassificationEvaluator(), 40)\n",
    "lr_test_result3"
   ]
  },
  {
   "cell_type": "code",
   "execution_count": 116,
   "metadata": {
    "ExecuteTime": {
     "end_time": "2019-05-28T07:38:18.427982Z",
     "start_time": "2019-05-28T07:34:16.533856Z"
    }
   },
   "outputs": [
    {
     "data": {
      "text/plain": [
       "2239"
      ]
     },
     "execution_count": 116,
     "metadata": {},
     "output_type": "execute_result"
    }
   ],
   "source": [
    "# 4th with seed 46\n",
    "\n",
    "lr = LogisticRegression(featuresCol = \"features\", labelCol = \"label\")\n",
    "\n",
    "paramGrid = ParamGridBuilder() \\\n",
    "        .addGrid(lr.maxIter, [10, 20]) \\\n",
    "        .build()\n",
    "\n",
    "lr_val_result4, lr_test_result4 = model_contruct(df_fe, lr, paramGrid, BinaryClassificationEvaluator(), 46)\n",
    "gc.collect()"
   ]
  },
  {
   "cell_type": "code",
   "execution_count": 117,
   "metadata": {
    "ExecuteTime": {
     "end_time": "2019-05-28T07:38:25.696883Z",
     "start_time": "2019-05-28T07:38:25.691884Z"
    }
   },
   "outputs": [
    {
     "data": {
      "text/plain": [
       "0.7160493827160493"
      ]
     },
     "execution_count": 117,
     "metadata": {},
     "output_type": "execute_result"
    }
   ],
   "source": [
    "lr_test_result4"
   ]
  },
  {
   "cell_type": "code",
   "execution_count": 118,
   "metadata": {
    "ExecuteTime": {
     "end_time": "2019-05-28T07:42:36.999502Z",
     "start_time": "2019-05-28T07:38:38.340447Z"
    }
   },
   "outputs": [],
   "source": [
    "# Let's use Logistic Regression \n",
    "lr = LogisticRegression(featuresCol = \"features\", labelCol = \"label\")\n",
    "\n",
    "paramGrid = ParamGridBuilder() \\\n",
    "        .addGrid(lr.maxIter, [10, 20]) \\\n",
    "        .build()\n",
    "\n",
    "lr_val_result5, lr_test_result5 = model_contruct(df_fe, lr, paramGrid, BinaryClassificationEvaluator(), 47)"
   ]
  },
  {
   "cell_type": "code",
   "execution_count": 119,
   "metadata": {
    "ExecuteTime": {
     "end_time": "2019-05-28T07:42:40.668434Z",
     "start_time": "2019-05-28T07:42:40.665021Z"
    }
   },
   "outputs": [
    {
     "data": {
      "text/plain": [
       "0.7421875"
      ]
     },
     "execution_count": 119,
     "metadata": {},
     "output_type": "execute_result"
    }
   ],
   "source": [
    "lr_test_result5"
   ]
  },
  {
   "cell_type": "markdown",
   "metadata": {},
   "source": [
    "By collecting all the test results from above run , we could get a list of AUC scores of prediction on test set with diffrent random states. List as below:\n",
    "\n",
    "\n",
    "\n",
    "## Discussion\n",
    "After setting different random states and evaluation on each test sets, the mean of 5 AUC scores are 0.73, standard deviation is about 0.09.\n",
    "\n",
    "We can see that even though the result is not bad in most runs, the predictions are not very stable. The main reason would be limited size of the dataset.\n",
    "\n",
    "In the following I disscussed several ways to improve the model in the future.\n",
    "\n",
    "## To be Improvemed\n",
    "1. Re-analyze the whole process on the full size dataset. The whole dataset user log scenario might be very different with the small one.\n",
    "2. Set spark cluster on AWS EMR, which allow to access the full dataset in S3 and alos could boost calculation speed.\n",
    "3. Continue to extract more useful features and try more algorithms and parameter tunings.\n",
    "\n",
    "\n",
    "## Final Steps\n",
    "After above exploratory I will compile all the necessary steps together for future scaling using. Include:\n",
    "\n",
    "- Data Loading and simple cleaning --  data_prep(data_path)\n",
    "- Data Transformation --  feature_engineer(df)\n",
    "- Feature Processing and ML pipline --  ml_pipeline(df, model)\n",
    "- Model Tranining and Predition --  model_contruct(df_fe,model,paramGrid,evaluator)\n",
    "\n",
    "\n",
    "\n",
    "\n",
    "1. Data Loading and simple cleaning"
   ]
  },
  {
   "cell_type": "code",
   "execution_count": 120,
   "metadata": {
    "ExecuteTime": {
     "end_time": "2019-05-28T07:45:07.865741Z",
     "start_time": "2019-05-28T07:45:07.840071Z"
    }
   },
   "outputs": [],
   "source": [
    "def data_prep(data_path):\n",
    "    \"\"\"Load raw log date of sparkify and define churn, separate observation and target data.\n",
    "    INPUT: data_path -- (str) : location of the file\n",
    "    OUTPUT: df_prep -- (dataframe): dataframe after cleaning null userIds\n",
    "    \"\"\"\n",
    "    \n",
    "    ### Load raw data\n",
    "    # read raw data\n",
    "    df = spark.read.json(data_path)\n",
    "    # Filter out userId is null records\n",
    "    df = df.filter(df.userId != '')\n",
    "    \n",
    "    \n",
    "   ### Define churn \n",
    "\n",
    "    # define churn function -- user cancellation confirmation as criteria\n",
    "    cancellation_event = udf(lambda x: 1 if x == 'Cancellation Confirmation' else 0, IntegerType())\n",
    "    # apply churn function\n",
    "    df = df.withColumn(\"churn\", cancellation_event(\"page\"))   \n",
    "    # fill churn user na as 0s\n",
    "    df = df.na.fill({'churn': 0})\n",
    "    \n",
    "    ### Generate time related variable\n",
    "    # get hour, day, date from ts\n",
    "    ts_to_hour = udf(lambda x: datetime.fromtimestamp(x / 1000.0).hour)\n",
    "    df = df.withColumn(\"hour\",ts_to_hour(\"ts\"))\n",
    "    ts_to_day = udf(lambda x: datetime.fromtimestamp(x / 1000.0).day)\n",
    "    df = df.withColumn(\"day\",ts_to_day(\"ts\"))\n",
    "    df = df.withColumn(\"date\",from_unixtime(df.ts/1000).cast(DateType()))\n",
    "    \n",
    "    ### segment obersavation and target data\n",
    "    # create sql view\n",
    "    df.createOrReplaceTempView(\"whole_data\")      \n",
    "    ## obersavation\n",
    "    # set observation records\n",
    "    df_obv = spark.sql(\"select * from whole_data \\\n",
    "                        where date >= '2018-10-01' and date < '2018-11-01'\")\n",
    "    # get unique churn users\n",
    "    churn_user_obv = df_obv.select(['userId']).where(df_obv.churn == 1).dropDuplicates()\n",
    "    # assign new churn user label to churn users\n",
    "    churn_user_obv = churn_user_obv.withColumn(\"churn_user_obv\", lit(1))\n",
    "    # join churn user back to original table and got an label\n",
    "    df_obv = df_obv.join(churn_user_obv, \"userId\", how = 'outer')\n",
    "    # remove users records who churn between 2018-10-01 and 2018-11-01\n",
    "    df_obv = df_obv.where(col('churn_user_obv').isNull())\n",
    "    \n",
    "    ## target\n",
    "    df_target = spark.sql(\"select * from whole_data \\\n",
    "                          where date >= '2018-11-01' and date < '2018-12-01'\")\n",
    "    # unique users churned during the target period\n",
    "    churn_user_target = df_target.select(['userId']).where(df_target.churn == 1).dropDuplicates()\n",
    "    # assign new churn user label to churn users\n",
    "    churn_user_target = churn_user_target.withColumn(\"churn_user_target\", lit(1))\n",
    "    \n",
    "    ## join observation and target\n",
    "    # join churn user back to observal table and got an label\n",
    "    df_prep = df_obv.join(churn_user_target, \"userId\", how = 'outer')\n",
    "\n",
    "    # fill na with 0s in the observational dataset\n",
    "    df_prep = df_prep.fillna(0, subset = ['churn_user_target'])\n",
    "\n",
    "    return df_prep"
   ]
  },
  {
   "cell_type": "markdown",
   "metadata": {},
   "source": [
    "2. Data Transformation"
   ]
  },
  {
   "cell_type": "code",
   "execution_count": 121,
   "metadata": {
    "ExecuteTime": {
     "end_time": "2019-05-28T07:45:35.360965Z",
     "start_time": "2019-05-28T07:45:35.340445Z"
    }
   },
   "outputs": [],
   "source": [
    "def feature_engineer(df):\n",
    "    \"\"\"Data transformation and feature processing from loaded churn defined raw data \n",
    "       into model ready dataset.\n",
    "    INPUT: \n",
    "    df -- (dataframe): Loaded and churn defined raw datafrme\n",
    "    \n",
    "    OUTPUT: \n",
    "    df_fe -- (dataframe): Processed dataframe with users as rows and features as columns.\n",
    "    \"\"\"\n",
    "    # create temp view\n",
    "    df.createOrReplaceTempView(\"whole_data\")     \n",
    "    \n",
    "    ## gender by userId\n",
    "    df_gender = spark.sql(\"select distinct userId, gender, churn_user_target from whole_data\")\n",
    "    \n",
    "    ## location by userId\n",
    "    df_location = spark.sql(\"select distinct userId, location, churn_user_target from whole_data\")\n",
    "    # extract State -- 37\n",
    "    substr_state = udf(lambda x: x[-2:], StringType())\n",
    "    df_location = df_location.withColumn(\"state\", substr_state(\"location\"))\n",
    "    \n",
    "    ## userAgent\n",
    "    df_useAgen = spark.sql(\"select distinct userId, userAgent, churn_user_target from whole_data\")\n",
    "    remove_qot = udf(lambda x: x.replace(u'\"',''))\n",
    "    substr_agent = udf(lambda x: x[13:21], StringType())\n",
    "    # extract oprating system\n",
    "    df_useAgen = df_useAgen.withColumn(\"opr_system\", substr_agent(remove_qot(\"userAgent\")))    \n",
    "\n",
    "    ## Total songs played during the month\n",
    "    df_song = spark.sql(\"select userId, count(song) as ttl_song\\\n",
    "                         from whole_data \\\n",
    "                         where song is not Null \\\n",
    "                         group by userId\")\n",
    "    \n",
    "    ## Pages\n",
    "    # reshap page count -- userId as row and page as column, count as value\n",
    "    df_page = df.groupby('userId').pivot('page').count()\n",
    "    # fillna as 0s\n",
    "    df_page = df_page.fillna(0)\n",
    "    \n",
    "    ## Song length\n",
    "    df_song_length = spark.sql(\"select userId, round(avg(length)) as avg_song_length\\\n",
    "                            from whole_data \\\n",
    "                            where song is not Null \\\n",
    "                            group by userId\")\n",
    "    \n",
    "    # https://fle.github.io/detect-value-changes-between-successive-lines-with-postgresql.html\n",
    "\n",
    "    # mark level, prev_level, next_level and level change label\n",
    "    df_level = spark.sql(\"select userId, ttl_paid2free, ttl_free2paid, \\\n",
    "                          case when ttl_lvl_free == 0 then 1 else 0 end as always_paid, \\\n",
    "                          case when ttl_lvl_paid == 0 then 1 else 0 end as always_free \\\n",
    "                          from  \\\n",
    "                          (select userId, sum(paid2free) as ttl_paid2free, sum(free2paid) as ttl_free2paid, \\\n",
    "                          sum(level_paid) as ttl_lvl_paid, sum(level_free) as ttl_lvl_free \\\n",
    "                          from \\\n",
    "                          (select userId, date, level, prev_level, next_level, page, hour, \\\n",
    "                           case when (prev_level == 'paid' and level == 'free') then 1 else 0 end as paid2free, \\\n",
    "                           case when (prev_level == 'free' and level == 'paid') then 1 else 0 end as free2paid, \\\n",
    "                           case when (level == 'paid') then 1 else 0 end as level_paid, \\\n",
    "                           case when (level == 'free') then 1 else 0 end as level_free \\\n",
    "                           from \\\n",
    "                           (select userId, date, level, page, hour, \\\n",
    "                           lag(level) OVER (ORDER BY userId, date) as prev_level, \\\n",
    "                           lead(level) OVER (ORDER BY userId,date) as next_level \\\n",
    "                           from whole_data) as a) as b \\\n",
    "                           group by userId) as c\")\n",
    "    \n",
    "    # join above features together\n",
    "    df_fe = df_gender.join(df_location.select(['userId','state']), \"userId\")\\\n",
    "                     .join(df_useAgen.select(['userId','opr_system']), \"userId\")\\\n",
    "                     .join(df_song, \"userId\")\\\n",
    "                     .join(df_page, \"userId\")\\\n",
    "                     .join(df_song_length, \"userId\")\\\n",
    "                     .join(df_level, \"userId\")\n",
    "    \n",
    "    # replace space with '_' in column names \n",
    "    col_replace = {c:c.replace(' ', '_') for c in df_fe.columns if ' ' in c}\n",
    "    df_fe = df_fe.select([col(c).alias(col_replace.get(c,c)) for c in df_fe.columns])\n",
    "    \n",
    "    return df_fe"
   ]
  },
  {
   "cell_type": "markdown",
   "metadata": {
    "ExecuteTime": {
     "end_time": "2019-05-28T07:45:43.435278Z",
     "start_time": "2019-05-28T07:45:43.426694Z"
    }
   },
   "source": [
    "3. Feature Processing and ML pipline"
   ]
  },
  {
   "cell_type": "code",
   "execution_count": 123,
   "metadata": {
    "ExecuteTime": {
     "end_time": "2019-05-28T07:45:57.363807Z",
     "start_time": "2019-05-28T07:45:57.342327Z"
    }
   },
   "outputs": [],
   "source": [
    "# Comple ML pipeline\n",
    "\n",
    "def ml_pipeline(df, model):\n",
    "    \"\"\"Build feature vector processing and ML pipeline for prediction ready.\n",
    "    INPUT:\n",
    "    df -- (dataframe): Dataframe with users as rows and features as columns.\n",
    "    model : machine learning alogrithm.\n",
    "    OUTPUT:\n",
    "    pipeline -- (Pipeline): Feature processing and ML pipeline\n",
    "    \"\"\"\n",
    "    \n",
    "    ### Dealing with Categorical Variables\n",
    "    # collect categorical variables\n",
    "    cate_cols = [c[0] for c in df.dtypes if (c[1] == 'string' and c[0] not in ['userId','state'])]\n",
    "    # pipeline stages\n",
    "    stages = []\n",
    "\n",
    "    for cat in cate_cols:\n",
    "        # Indexing on categorical variables\n",
    "        string_indexer = StringIndexer(inputCol = cat, outputCol = cat + \"Index\")\n",
    "        # OneHotEncoding on categorical variables to dummy vectors\n",
    "        dum_encoder = OneHotEncoder(inputCol = string_indexer.getOutputCol(), outputCol = cat + \"classVec\")\n",
    "        # update stage\n",
    "        stages += [string_indexer, dum_encoder]\n",
    "\n",
    "    ### Dealing with numerical variables\n",
    "    # collect continous variable\n",
    "    conti_cols = [c[0] for c in df.dtypes if c[1] in ('int','bigint','double') and c[0] != 'churn_user_target']\n",
    "    # assemble continous variables\n",
    "    conti_assemb = VectorAssembler(inputCols = conti_cols, outputCol = \"conti_varas_vec\")\n",
    "    # scale continous variables\n",
    "    cat_scaler = StandardScaler(inputCol = \"conti_varas_vec\", outputCol = \"conti_scaled_feats\")\n",
    "    # update satage\n",
    "    stages += [conti_assemb, cat_scaler]\n",
    "    \n",
    "    \n",
    "    ### conver target variable into label indices\n",
    "    label_strIdx = StringIndexer(inputCol = \"churn_user_target\", outputCol = \"label\")\n",
    "    # update stage\n",
    "    stages += [label_strIdx]\n",
    "    \n",
    "    # Assemble vectors together\n",
    "    assembler_varas = [c + \"Index\" for c in cate_cols] + [\"conti_scaled_feats\"]\n",
    "    # Apply vectorAssembler\n",
    "    assembler = VectorAssembler(inputCols = assembler_varas, outputCol = \"features\")\n",
    "    # Update stage\n",
    "    stages += [assembler]\n",
    "    \n",
    "    ### ML model\n",
    "    ml_model  = model\n",
    "    stages += [ml_model]\n",
    "    \n",
    "    ### Compile pipeline\n",
    "    pipeline = Pipeline().setStages(stages)\n",
    "\n",
    "    return pipeline"
   ]
  },
  {
   "cell_type": "markdown",
   "metadata": {},
   "source": [
    "4 Model Tranining and Predition"
   ]
  },
  {
   "cell_type": "code",
   "execution_count": 124,
   "metadata": {
    "ExecuteTime": {
     "end_time": "2019-05-28T07:46:15.337341Z",
     "start_time": "2019-05-28T07:46:15.327010Z"
    }
   },
   "outputs": [],
   "source": [
    "def model_contruct(df, model, paramGrid, evaluator, random_state):\n",
    "    \"\"\"Split train, test dataset. Grid Search best model by using TrainValidationSplit and do prediction on test set.   \n",
    "    INPUT:\n",
    "    df -- (dataframe): Dataframe with users as rows and features as columns.\n",
    "    model : machine learning alogrithm.\n",
    "    paramGrid: parameters for grid search.\n",
    "    evaluator : The evaluation method.\n",
    "    random_state: the seed number set for random state\n",
    "    OUTPUT:\n",
    "    evaluator_val: model performance on validation dataset.\n",
    "    evaluator_test: model performance on test dataset.\n",
    "    \"\"\"\n",
    "    # build data process ml pipeline \n",
    "    pipeline = ml_pipeline(df, model)\n",
    "    \n",
    "    # split train test \n",
    "    train, test = df.randomSplit([0.8, 0.2], seed = random_state)\n",
    "    \n",
    "    # split train-validation for finding the best param \n",
    "    train_val_model = TrainValidationSplit(estimator = pipeline,\n",
    "                               estimatorParamMaps = paramGrid,\n",
    "                               evaluator = evaluator,\n",
    "                               trainRatio = 0.7)\n",
    "    \n",
    "    # train model\n",
    "    ml_model = train_val_model.fit(train)\n",
    "    \n",
    "    # get each parameter setting's evaluation result list\n",
    "    evaluator_val = ml_model.validationMetrics\n",
    "    \n",
    "    # extract best model\n",
    "    ml_model_best = ml_model.bestModel\n",
    "    \n",
    "    # test result\n",
    "    result = ml_model_best.transform(test)\n",
    "    \n",
    "    # set evaluator\n",
    "    evaluator = evaluator\n",
    "    \n",
    "    # get evaluation result\n",
    "    evaluator_test = evaluator.evaluate(result)\n",
    "    \n",
    "    return evaluator_val, evaluator_test"
   ]
  },
  {
   "cell_type": "markdown",
   "metadata": {},
   "source": [
    "### Run all steps by using above functions."
   ]
  },
  {
   "cell_type": "code",
   "execution_count": 125,
   "metadata": {
    "ExecuteTime": {
     "end_time": "2019-05-28T07:46:33.724744Z",
     "start_time": "2019-05-28T07:46:32.847582Z"
    }
   },
   "outputs": [],
   "source": [
    "# Data Loading and simple cleaning\n",
    "df_raw = data_prep(\"mini_sparkify_event_data.json\")"
   ]
  },
  {
   "cell_type": "code",
   "execution_count": 126,
   "metadata": {
    "ExecuteTime": {
     "end_time": "2019-05-28T07:46:43.335695Z",
     "start_time": "2019-05-28T07:46:38.528195Z"
    }
   },
   "outputs": [],
   "source": [
    "# Feature engineering on raw data\n",
    "df_fe = feature_engineer(df_raw)"
   ]
  },
  {
   "cell_type": "code",
   "execution_count": 127,
   "metadata": {
    "ExecuteTime": {
     "end_time": "2019-05-28T07:50:40.194826Z",
     "start_time": "2019-05-28T07:46:44.305277Z"
    }
   },
   "outputs": [],
   "source": [
    "# Model Contruct\n",
    "lr = LogisticRegression(featuresCol = \"features\", labelCol = \"label\")\n",
    "\n",
    "paramGrid = ParamGridBuilder() \\\n",
    "        .addGrid(lr.maxIter, [10, 20]) \\\n",
    "        .build()\n",
    "\n",
    "lr_val_result1, lr_test_result1 = model_contruct(df_fe, lr, paramGrid, BinaryClassificationEvaluator(), 41)"
   ]
  },
  {
   "cell_type": "code",
   "execution_count": 128,
   "metadata": {
    "ExecuteTime": {
     "end_time": "2019-05-28T07:50:53.529567Z",
     "start_time": "2019-05-28T07:50:53.525893Z"
    }
   },
   "outputs": [
    {
     "data": {
      "text/plain": [
       "([0.7275747508305647, 0.8106312292358803], 0.7763157894736842)"
      ]
     },
     "execution_count": 128,
     "metadata": {},
     "output_type": "execute_result"
    }
   ],
   "source": [
    "lr_val_result1, lr_test_result1"
   ]
  },
  {
   "cell_type": "code",
   "execution_count": null,
   "metadata": {},
   "outputs": [],
   "source": []
  }
 ],
 "metadata": {
  "kernelspec": {
   "display_name": "Python 3",
   "language": "python",
   "name": "python3"
  },
  "latex_envs": {
   "LaTeX_envs_menu_present": true,
   "autoclose": false,
   "autocomplete": true,
   "bibliofile": "biblio.bib",
   "cite_by": "apalike",
   "current_citInitial": 1,
   "eqLabelWithNumbers": true,
   "eqNumInitial": 1,
   "hotkeys": {
    "equation": "Ctrl-E",
    "itemize": "Ctrl-I"
   },
   "labels_anchors": false,
   "latex_user_defs": false,
   "report_style_numbering": false,
   "user_envs_cfg": false
  },
  "varInspector": {
   "cols": {
    "lenName": 16,
    "lenType": 16,
    "lenVar": 40
   },
   "kernels_config": {
    "python": {
     "delete_cmd_postfix": "",
     "delete_cmd_prefix": "del ",
     "library": "var_list.py",
     "varRefreshCmd": "print(var_dic_list())"
    },
    "r": {
     "delete_cmd_postfix": ") ",
     "delete_cmd_prefix": "rm(",
     "library": "var_list.r",
     "varRefreshCmd": "cat(var_dic_list()) "
    }
   },
   "types_to_exclude": [
    "module",
    "function",
    "builtin_function_or_method",
    "instance",
    "_Feature"
   ],
   "window_display": false
  }
 },
 "nbformat": 4,
 "nbformat_minor": 2
}
